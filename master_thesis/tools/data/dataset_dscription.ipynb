{
 "cells": [
  {
   "cell_type": "code",
   "execution_count": 3,
   "metadata": {},
   "outputs": [],
   "source": [
    "import os\n",
    "import numpy as np\n",
    "import pandas as pd\n",
    "import matplotlib.pyplot as plt\n",
    "\n",
    "dataset_dir = \"/Users/wciezobka/sano/datasets/stroke\""
   ]
  },
  {
   "cell_type": "code",
   "execution_count": 74,
   "metadata": {},
   "outputs": [],
   "source": [
    "description_path = os.path.join(dataset_dir, \"participants.tsv\")\n",
    "data_files = os.listdir(os.path.join(dataset_dir, \"toWojciech\"))\n",
    "\n",
    "data_files = [f for f in data_files if f.startswith(\"sub-\")]\n",
    "data_ids = [f.split(\"_\")[0] for f in data_files]"
   ]
  },
  {
   "cell_type": "code",
   "execution_count": 75,
   "metadata": {},
   "outputs": [],
   "source": [
    "df_description = pd.read_csv(description_path, sep=\"\\t\")\n",
    "\n",
    "# Filter relevant data\n",
    "df_description = df_description[df_description.participant_id.isin(data_ids)]\n",
    "df_description = df_description[df_description.subj_type.isin([0, 1])]\n",
    "\n",
    "# Replace NaNs with 2 for lesion_side column\n",
    "df_description.lesion_side = df_description.lesion_side.fillna(-1)\n",
    "df_description.lesion_type = df_description.lesion_type.fillna(-1)"
   ]
  },
  {
   "cell_type": "code",
   "execution_count": 76,
   "metadata": {},
   "outputs": [
    {
     "data": {
      "text/plain": [
       "Index(['participant_id', 'redcap_event_name', 'subj_type', 'inclusion',\n",
       "       'inclusion_notes', 'lesion_side', 'basic_study_information_complete',\n",
       "       'acute_beh', 'acute_scan', 'missed_visit_a',\n",
       "       ...\n",
       "       'sf36_pain', 'sf36_gen', 'functional_outcome_battery_complete',\n",
       "       'sensory_collection_v2', 'body_id_v2___1', 'body_id_v2___2',\n",
       "       'body_id_v2___3', 'body_id_v2___4', 'body_id_v2___5',\n",
       "       'sensory_battery_2_complete'],\n",
       "      dtype='object', length=714)"
      ]
     },
     "execution_count": 76,
     "metadata": {},
     "output_type": "execute_result"
    }
   ],
   "source": [
    "df_description.columns"
   ]
  },
  {
   "cell_type": "code",
   "execution_count": 77,
   "metadata": {},
   "outputs": [],
   "source": [
    "df_summary = pd.DataFrame({\n",
    "    \"subject_id\": list(df_description.participant_id),\n",
    "    \"subject_type\": list(df_description.subj_type),     # 0 - stroke, 1 - healthy\n",
    "    \"lesion_type\": list(df_description.lesion_type),    # 0 - ischemic, 1 - hemorrhagic, 2 - other\n",
    "    \"lesion_side\": list(df_description.lesion_side),    # 0 - left, 1 - right\n",
    "    \"gender\": list(df_description.gender),              # 0 - male, 1 - female\n",
    "    \"age\": list(df_description.age)                     # age in years\n",
    "})"
   ]
  },
  {
   "cell_type": "code",
   "execution_count": 89,
   "metadata": {},
   "outputs": [
    {
     "data": {
      "text/plain": [
       "10.646013571535395"
      ]
     },
     "execution_count": 89,
     "metadata": {},
     "output_type": "execute_result"
    }
   ],
   "source": [
    "df_summary.age.std()"
   ]
  },
  {
   "cell_type": "code",
   "execution_count": 79,
   "metadata": {},
   "outputs": [
    {
     "data": {
      "text/plain": [
       "array([-1.,  1.,  0.])"
      ]
     },
     "execution_count": 79,
     "metadata": {},
     "output_type": "execute_result"
    }
   ],
   "source": [
    "df_summary.lesion_side.unique()"
   ]
  },
  {
   "cell_type": "code",
   "execution_count": null,
   "metadata": {},
   "outputs": [],
   "source": []
  }
 ],
 "metadata": {
  "kernelspec": {
   "display_name": "sano",
   "language": "python",
   "name": "python3"
  },
  "language_info": {
   "codemirror_mode": {
    "name": "ipython",
    "version": 3
   },
   "file_extension": ".py",
   "mimetype": "text/x-python",
   "name": "python",
   "nbconvert_exporter": "python",
   "pygments_lexer": "ipython3",
   "version": "3.10.4"
  }
 },
 "nbformat": 4,
 "nbformat_minor": 2
}
