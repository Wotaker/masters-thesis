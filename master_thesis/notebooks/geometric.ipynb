{
 "cells": [
  {
   "cell_type": "code",
   "execution_count": 79,
   "metadata": {},
   "outputs": [],
   "source": [
    "from typing import Optional\n",
    "\n",
    "import os\n",
    "import numpy as np\n",
    "import matplotlib.pyplot as plt\n",
    "import networkx as nx\n",
    "import seaborn as sns\n",
    "import torch\n",
    "from torch_geometric.data import Data, Dataset\n",
    "from torch_geometric.loader import DataLoader\n",
    "\n",
    "CAUSAL_COEFF_STRENGTH = 1.7\n",
    "NETWORKS_DIR_PATH = \"/Users/wciezobka/sano/projects/masters-thesis/Datasets/NeuroFlicks/networks\""
   ]
  },
  {
   "cell_type": "code",
   "execution_count": 81,
   "metadata": {},
   "outputs": [],
   "source": [
    "class ConnectivityDataset(Dataset):\n",
    "\n",
    "    @staticmethod\n",
    "    def nx2geometric(nx_graph: nx.DiGraph) -> Data:\n",
    "        \"\"\"\n",
    "        Converts a networkx graph to a PyTorch Geometric Data object.\n",
    "        \"\"\"\n",
    "\n",
    "        return Data(\n",
    "            x=torch.ones(len(nx_graph.nodes), 1),\n",
    "            edge_index=torch.tensor(list(nx_graph.edges)).t().contiguous(),\n",
    "            edge_attr=torch.tensor(list(nx.get_edge_attributes(nx_graph, 'weight').values()), dtype=torch.float),\n",
    "        )\n",
    "\n",
    "    def __init__(\n",
    "            self,\n",
    "            networks_dir: str,\n",
    "            causal_coeff_strength: Optional[float] = None,\n",
    "            causal_coeff_threshold: Optional[float] = None,\n",
    "        ):\n",
    "\n",
    "        assert causal_coeff_strength is not None or causal_coeff_threshold is not None, \\\n",
    "            \"Either causal_coeff_strength or causal_coeff_threshold must be set\"\n",
    "\n",
    "        self.networks_dir = networks_dir\n",
    "        self.causal_coeff_strength = causal_coeff_strength\n",
    "        self.causal_coeff_threshold = causal_coeff_threshold\n",
    "       \n",
    "       # List of all networks\n",
    "        np_files = os.listdir(self.networks_dir)\n",
    "\n",
    "        # Get labels from file names\n",
    "        self.labels = np.array([np_file[4:7] == 'PAT' for np_file in np_files])\n",
    "\n",
    "        # Load all networks to numpy networks\n",
    "        np_networks = [np.load(os.path.join(networks_dir, np_file))[1] for np_file in np_files]\n",
    "\n",
    "        # Preprocess networks\n",
    "        if causal_coeff_strength is not None:\n",
    "            score_mean, score_std = np.array(np_networks).mean(), np.array(np_networks).std()\n",
    "            np_networks = np_networks > score_mean + self.causal_coeff_strength * score_std\n",
    "        else:\n",
    "            np_networks = np.where(np.array(np_networks) < self.causal_coeff_threshold, 0, np_networks)\n",
    "        \n",
    "        # Convert to networkx graphs\n",
    "        self.nx_dataset = [nx.from_numpy_array(np_network, create_using=nx.DiGraph) for np_network in np_networks]\n",
    "\n",
    "        # Balance of control and patological samples\n",
    "        self.n_control = len(self.labels) - self.labels.sum()\n",
    "        self.n_patological = self.labels.sum()\n",
    "    \n",
    "    def subjects_info(self):\n",
    "        return {\"Control\": self.n_control, \"Patological\": self.n_patological}\n",
    "    \n",
    "    def len(self):\n",
    "        return len(self.nx_dataset)\n",
    "    \n",
    "    def get(self, idx):\n",
    "        return self.nx2geometric(self.nx_dataset[idx])\n",
    "    \n",
    "    def __getitem__(self, idx) -> Data:\n",
    "        return self.get(idx)\n",
    "    \n",
    "    def __len__(self) -> int:\n",
    "        return self.len()"
   ]
  },
  {
   "cell_type": "code",
   "execution_count": 82,
   "metadata": {},
   "outputs": [],
   "source": [
    "dataset_geometric = ConnectivityDataset(NETWORKS_DIR_PATH, causal_coeff_threshold=0.5)"
   ]
  },
  {
   "cell_type": "code",
   "execution_count": 84,
   "metadata": {},
   "outputs": [
    {
     "data": {
      "text/plain": [
       "{'Control': 69, 'Patological': 382}"
      ]
     },
     "execution_count": 84,
     "metadata": {},
     "output_type": "execute_result"
    }
   ],
   "source": [
    "dataset_geometric.subjects_info()"
   ]
  },
  {
   "cell_type": "code",
   "execution_count": 77,
   "metadata": {},
   "outputs": [],
   "source": [
    "sample_graph_id = 0\n",
    "sample_graph = dataset_geometric[sample_graph_id]"
   ]
  },
  {
   "cell_type": "code",
   "execution_count": 78,
   "metadata": {},
   "outputs": [
    {
     "data": {
      "image/png": "[encoded data removed]",
      "text/plain": [
       "<Figure size 640x480 with 1 Axes>"
      ]
     },
     "metadata": {},
     "output_type": "display_data"
    }
   ],
   "source": [
    "# Plot histogram of weights with sns\n",
    "sns.histplot(sample_graph.edge_attr.numpy(), kde=True)\n",
    "plt.title(\"Histogram of weights\")\n",
    "plt.show()"
   ]
  },
  {
   "cell_type": "code",
   "execution_count": 90,
   "metadata": {},
   "outputs": [],
   "source": [
    "dataloader = DataLoader(dataset_geometric, batch_size=32, shuffle=True)"
   ]
  },
  {
   "cell_type": "code",
   "execution_count": 92,
   "metadata": {},
   "outputs": [
    {
     "name": "stdout",
     "output_type": "stream",
     "text": [
      "DataBatch(x=[3200, 1], edge_index=[2, 141049], edge_attr=[141049], batch=[3200], ptr=[33])\n"
     ]
    }
   ],
   "source": [
    "for batch in dataloader:\n",
    "    print(batch)\n",
    "    break"
   ]
  },
  {
   "cell_type": "code",
   "execution_count": null,
   "metadata": {},
   "outputs": [],
   "source": []
  }
 ],
 "metadata": {
  "kernelspec": {
   "display_name": "sano",
   "language": "python",
   "name": "python3"
  },
  "language_info": {
   "codemirror_mode": {
    "name": "ipython",
    "version": 3
   },
   "file_extension": ".py",
   "mimetype": "text/x-python",
   "name": "python",
   "nbconvert_exporter": "python",
   "pygments_lexer": "ipython3",
   "version": "3.10.4"
  }
 },
 "nbformat": 4,
 "nbformat_minor": 2
}
