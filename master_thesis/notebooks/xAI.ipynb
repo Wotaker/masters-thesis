{
 "cells": [
  {
   "cell_type": "code",
   "execution_count": 4,
   "metadata": {},
   "outputs": [
    {
     "data": {
      "text/html": [
       "\n",
       "\t\t\t<script type=\"text/javascript\">\n",
       "\t\t\t<!--\n",
       "\t\t\t\t\n",
       "\t\t\t{\n",
       "\t\t\t\tvar element = document.getElementById('NetworKit_script');\n",
       "\t\t\t\tif (element) {\n",
       "\t\t\t\t\telement.parentNode.removeChild(element);\n",
       "\t\t\t\t}\n",
       "\t\t\t\telement = document.createElement('script');\n",
       "\t\t\t\telement.type = 'text/javascript';\n",
       "\t\t\t\telement.innerHTML = 'function NetworKit_pageEmbed(id) { var i, j; var elements; elements = document.getElementById(id).getElementsByClassName(\"Plot\"); for (i=0; i<elements.length; i++) { elements[i].id = id + \"_Plot_\" + i; var data = elements[i].getAttribute(\"data-image\").split(\"|\"); elements[i].removeAttribute(\"data-image\"); var content = \"<div class=\\\\\"Image\\\\\" id=\\\\\"\" + elements[i].id + \"_Image\\\\\" />\"; elements[i].innerHTML = content; elements[i].setAttribute(\"data-image-index\", 0); elements[i].setAttribute(\"data-image-length\", data.length); for (j=0; j<data.length; j++) { elements[i].setAttribute(\"data-image-\" + j, data[j]); } NetworKit_plotUpdate(elements[i]); elements[i].onclick = function (e) { NetworKit_overlayShow((e.target) ? e.target : e.srcElement); } } elements = document.getElementById(id).getElementsByClassName(\"HeatCell\"); for (i=0; i<elements.length; i++) { var data = parseFloat(elements[i].getAttribute(\"data-heat\")); var color = \"#00FF00\"; if (data <= 1 && data > 0) { color = \"hsla(0, 100%, 75%, \" + (data) + \")\"; } else if (data <= 0 && data >= -1) { color = \"hsla(240, 100%, 75%, \" + (-data) + \")\"; } elements[i].style.backgroundColor = color; } elements = document.getElementById(id).getElementsByClassName(\"Details\"); for (i=0; i<elements.length; i++) { elements[i].setAttribute(\"data-title\", \"-\"); NetworKit_toggleDetails(elements[i]); elements[i].onclick = function (e) { NetworKit_toggleDetails((e.target) ? e.target : e.srcElement); } } elements = document.getElementById(id).getElementsByClassName(\"MathValue\"); for (i=elements.length-1; i>=0; i--) { value = elements[i].innerHTML.trim(); if (value === \"nan\") { elements[i].parentNode.innerHTML = \"\" } } elements = document.getElementById(id).getElementsByClassName(\"SubCategory\"); for (i=elements.length-1; i>=0; i--) { value = elements[i].innerHTML.trim(); if (value === \"\") { elements[i].parentNode.removeChild(elements[i]) } } elements = document.getElementById(id).getElementsByClassName(\"Category\"); for (i=elements.length-1; i>=0; i--) { value = elements[i].innerHTML.trim(); if (value === \"\") { elements[i].parentNode.removeChild(elements[i]) } } var isFirefox = false; try { isFirefox = typeof InstallTrigger !== \"undefined\"; } catch (e) {} if (!isFirefox) { alert(\"Currently the function\\'s output is only fully supported by Firefox.\"); } } function NetworKit_plotUpdate(source) { var index = source.getAttribute(\"data-image-index\"); var data = source.getAttribute(\"data-image-\" + index); var image = document.getElementById(source.id + \"_Image\"); image.style.backgroundImage = \"url(\" + data + \")\"; } function NetworKit_showElement(id, show) { var element = document.getElementById(id); element.style.display = (show) ? \"block\" : \"none\"; } function NetworKit_overlayShow(source) { NetworKit_overlayUpdate(source); NetworKit_showElement(\"NetworKit_Overlay\", true); } function NetworKit_overlayUpdate(source) { document.getElementById(\"NetworKit_Overlay_Title\").innerHTML = source.title; var index = source.getAttribute(\"data-image-index\"); var data = source.getAttribute(\"data-image-\" + index); var image = document.getElementById(\"NetworKit_Overlay_Image\"); image.setAttribute(\"data-id\", source.id); image.style.backgroundImage = \"url(\" + data + \")\"; var link = document.getElementById(\"NetworKit_Overlay_Toolbar_Bottom_Save\"); link.href = data; link.download = source.title + \".svg\"; } function NetworKit_overlayImageShift(delta) { var image = document.getElementById(\"NetworKit_Overlay_Image\"); var source = document.getElementById(image.getAttribute(\"data-id\")); var index = parseInt(source.getAttribute(\"data-image-index\")); var length = parseInt(source.getAttribute(\"data-image-length\")); var index = (index+delta) % length; if (index < 0) { index = length + index; } source.setAttribute(\"data-image-index\", index); NetworKit_overlayUpdate(source); } function NetworKit_toggleDetails(source) { var childs = source.children; var show = false; if (source.getAttribute(\"data-title\") == \"-\") { source.setAttribute(\"data-title\", \"+\"); show = false; } else { source.setAttribute(\"data-title\", \"-\"); show = true; } for (i=0; i<childs.length; i++) { if (show) { childs[i].style.display = \"block\"; } else { childs[i].style.display = \"none\"; } } }';\n",
       "\t\t\t\telement.setAttribute('id', 'NetworKit_script');\n",
       "\t\t\t\tdocument.head.appendChild(element);\n",
       "\t\t\t}\n",
       "\t\t\n",
       "\t\t\t\t\n",
       "\t\t\t{\n",
       "\t\t\t\tvar element = document.getElementById('NetworKit_style');\n",
       "\t\t\t\tif (element) {\n",
       "\t\t\t\t\telement.parentNode.removeChild(element);\n",
       "\t\t\t\t}\n",
       "\t\t\t\telement = document.createElement('style');\n",
       "\t\t\t\telement.type = 'text/css';\n",
       "\t\t\t\telement.innerHTML = '.NetworKit_Page { font-family: Arial, Helvetica, sans-serif; font-size: 14px; } .NetworKit_Page .Value:before { font-family: Arial, Helvetica, sans-serif; font-size: 1.05em; content: attr(data-title) \":\"; margin-left: -2.5em; padding-right: 0.5em; } .NetworKit_Page .Details .Value:before { display: block; } .NetworKit_Page .Value { font-family: monospace; white-space: pre; padding-left: 2.5em; white-space: -moz-pre-wrap !important; white-space: -pre-wrap; white-space: -o-pre-wrap; white-space: pre-wrap; word-wrap: break-word; tab-size: 4; -moz-tab-size: 4; } .NetworKit_Page .Category { clear: both; padding-left: 1em; margin-bottom: 1.5em; } .NetworKit_Page .Category:before { content: attr(data-title); font-size: 1.75em; display: block; margin-left: -0.8em; margin-bottom: 0.5em; } .NetworKit_Page .SubCategory { margin-bottom: 1.5em; padding-left: 1em; } .NetworKit_Page .SubCategory:before { font-size: 1.6em; display: block; margin-left: -0.8em; margin-bottom: 0.5em; } .NetworKit_Page .SubCategory[data-title]:before { content: attr(data-title); } .NetworKit_Page .Block { display: block; } .NetworKit_Page .Block:after { content: \".\"; visibility: hidden; display: block; height: 0; clear: both; } .NetworKit_Page .Block .Thumbnail_Overview, .NetworKit_Page .Block .Thumbnail_ScatterPlot { width: 260px; float: left; } .NetworKit_Page .Block .Thumbnail_Overview img, .NetworKit_Page .Block .Thumbnail_ScatterPlot img { width: 260px; } .NetworKit_Page .Block .Thumbnail_Overview:before, .NetworKit_Page .Block .Thumbnail_ScatterPlot:before { display: block; text-align: center; font-weight: bold; } .NetworKit_Page .Block .Thumbnail_Overview:before { content: attr(data-title); } .NetworKit_Page .HeatCell { font-family: \"Courier New\", Courier, monospace; cursor: pointer; } .NetworKit_Page .HeatCell, .NetworKit_Page .HeatCellName { display: inline; padding: 0.1em; margin-right: 2px; background-color: #FFFFFF } .NetworKit_Page .HeatCellName { margin-left: 0.25em; } .NetworKit_Page .HeatCell:before { content: attr(data-heat); display: inline-block; color: #000000; width: 4em; text-align: center; } .NetworKit_Page .Measure { clear: both; } .NetworKit_Page .Measure .Details { cursor: pointer; } .NetworKit_Page .Measure .Details:before { content: \"[\" attr(data-title) \"]\"; display: block; } .NetworKit_Page .Measure .Details .Value { border-left: 1px dotted black; margin-left: 0.4em; padding-left: 3.5em; pointer-events: none; } .NetworKit_Page .Measure .Details .Spacer:before { content: \".\"; opacity: 0.0; pointer-events: none; } .NetworKit_Page .Measure .Plot { width: 440px; height: 440px; cursor: pointer; float: left; margin-left: -0.9em; margin-right: 20px; } .NetworKit_Page .Measure .Plot .Image { background-repeat: no-repeat; background-position: center center; background-size: contain; height: 100%; pointer-events: none; } .NetworKit_Page .Measure .Stat { width: 500px; float: left; } .NetworKit_Page .Measure .Stat .Group { padding-left: 1.25em; margin-bottom: 0.75em; } .NetworKit_Page .Measure .Stat .Group .Title { font-size: 1.1em; display: block; margin-bottom: 0.3em; margin-left: -0.75em; border-right-style: dotted; border-right-width: 1px; border-bottom-style: dotted; border-bottom-width: 1px; background-color: #D0D0D0; padding-left: 0.2em; } .NetworKit_Page .Measure .Stat .Group .List { -webkit-column-count: 3; -moz-column-count: 3; column-count: 3; } .NetworKit_Page .Measure .Stat .Group .List .Entry { position: relative; line-height: 1.75em; } .NetworKit_Page .Measure .Stat .Group .List .Entry[data-tooltip]:before { position: absolute; left: 0; top: -40px; background-color: #808080; color: #ffffff; height: 30px; line-height: 30px; border-radius: 5px; padding: 0 15px; content: attr(data-tooltip); white-space: nowrap; display: none; } .NetworKit_Page .Measure .Stat .Group .List .Entry[data-tooltip]:after { position: absolute; left: 15px; top: -10px; border-top: 7px solid #808080; border-left: 7px solid transparent; border-right: 7px solid transparent; content: \"\"; display: none; } .NetworKit_Page .Measure .Stat .Group .List .Entry[data-tooltip]:hover:after, .NetworKit_Page .Measure .Stat .Group .List .Entry[data-tooltip]:hover:before { display: block; } .NetworKit_Page .Measure .Stat .Group .List .Entry .MathValue { font-family: \"Courier New\", Courier, monospace; } .NetworKit_Page .Measure:after { content: \".\"; visibility: hidden; display: block; height: 0; clear: both; } .NetworKit_Page .PartitionPie { clear: both; } .NetworKit_Page .PartitionPie img { width: 600px; } #NetworKit_Overlay { left: 0px; top: 0px; display: none; position: absolute; width: 100%; height: 100%; background-color: rgba(0,0,0,0.6); z-index: 1000; } #NetworKit_Overlay_Title { position: absolute; color: white; transform: rotate(-90deg); width: 32em; height: 32em; padding-right: 0.5em; padding-top: 0.5em; text-align: right; font-size: 40px; } #NetworKit_Overlay .button { background: white; cursor: pointer; } #NetworKit_Overlay .button:before { size: 13px; display: inline-block; text-align: center; margin-top: 0.5em; margin-bottom: 0.5em; width: 1.5em; height: 1.5em; } #NetworKit_Overlay .icon-close:before { content: \"X\"; } #NetworKit_Overlay .icon-previous:before { content: \"P\"; } #NetworKit_Overlay .icon-next:before { content: \"N\"; } #NetworKit_Overlay .icon-save:before { content: \"S\"; } #NetworKit_Overlay_Toolbar_Top, #NetworKit_Overlay_Toolbar_Bottom { position: absolute; width: 40px; right: 13px; text-align: right; z-index: 1100; } #NetworKit_Overlay_Toolbar_Top { top: 0.5em; } #NetworKit_Overlay_Toolbar_Bottom { Bottom: 0.5em; } #NetworKit_Overlay_ImageContainer { position: absolute; top: 5%; left: 5%; height: 90%; width: 90%; background-repeat: no-repeat; background-position: center center; background-size: contain; } #NetworKit_Overlay_Image { height: 100%; width: 100%; background-repeat: no-repeat; background-position: center center; background-size: contain; }';\n",
       "\t\t\t\telement.setAttribute('id', 'NetworKit_style');\n",
       "\t\t\t\tdocument.head.appendChild(element);\n",
       "\t\t\t}\n",
       "\t\t\n",
       "\t\t\t\t\n",
       "\t\t\t{\n",
       "\t\t\t\tvar element = document.getElementById('NetworKit_Overlay');\n",
       "\t\t\t\tif (element) {\n",
       "\t\t\t\t\telement.parentNode.removeChild(element);\n",
       "\t\t\t\t}\n",
       "\t\t\t\telement = document.createElement('div');\n",
       "\t\t\t\telement.innerHTML = '<div id=\"NetworKit_Overlay_Toolbar_Top\"><div class=\"button icon-close\" id=\"NetworKit_Overlay_Close\" /></div><div id=\"NetworKit_Overlay_Title\" /> <div id=\"NetworKit_Overlay_ImageContainer\"> <div id=\"NetworKit_Overlay_Image\" /> </div> <div id=\"NetworKit_Overlay_Toolbar_Bottom\"> <div class=\"button icon-previous\" onclick=\"NetworKit_overlayImageShift(-1)\" /> <div class=\"button icon-next\" onclick=\"NetworKit_overlayImageShift(1)\" /> <a id=\"NetworKit_Overlay_Toolbar_Bottom_Save\"><div class=\"button icon-save\" /></a> </div>';\n",
       "\t\t\t\telement.setAttribute('id', 'NetworKit_Overlay');\n",
       "\t\t\t\tdocument.body.appendChild(element);\n",
       "\t\t\t\tdocument.getElementById('NetworKit_Overlay_Close').onclick = function (e) {\n",
       "\t\t\t\t\tdocument.getElementById('NetworKit_Overlay').style.display = 'none';\n",
       "\t\t\t\t}\n",
       "\t\t\t}\n",
       "\t\t\n",
       "\t\t\t-->\n",
       "\t\t\t</script>\n",
       "\t\t"
      ]
     },
     "metadata": {},
     "output_type": "display_data"
    }
   ],
   "source": [
    "import glob\n",
    "import brainstat.datasets\n",
    "import numpy as np\n",
    "import matplotlib.pyplot as plt\n",
    "import seaborn as sns\n",
    "import brainstat\n",
    "import brainstat.datasets as datasets\n",
    "\n",
    "from matplotlib.cm import ScalarMappable\n",
    "from brainstat.datasets import fetch_yeo_networks_metadata\n",
    "from brainstat.datasets import fetch_parcellation\n",
    "from brainspace.utils.parcellation import map_to_labels\n",
    "from brainstat.context.resting import yeo_networks_associations\n",
    "from surfplot import Plot\n",
    "\n",
    "from master_thesis.tools.plots.config import set_style, reset_style, COLUMN_HIGHT, COLUMN_WIDTH\n",
    "\n",
    "lh, rh = brainstat.datasets.fetch_template_surface('fsaverage5', join=False)\n",
    "\n",
    "\n",
    "RCC_LTP_DIRECTORY_PATH = \"/Users/wciezobka/sano/projects/masters-thesis/Results/lime/20240410-164742_RCC-LTP/explanations\"\n",
    "RCC_DIRECTORY_PATH = \"/Users/wciezobka/sano/projects/masters-thesis/Results/lime/20240522-195128_RCC-GCN/explanations\"\n",
    "GC_DIRECTORY_PATH = \"/Users/wciezobka/sano/projects/masters-thesis/Results/lime/20240522-195135_GC-GCN/explanations\"\n",
    "N_STDS = 0.002\n",
    "\n",
    "xs_stroke_rcc = np.array([np.load(f) for f in glob.glob(RCC_DIRECTORY_PATH+\"/*PAT*\")])\n",
    "xs_control_rcc = np.array([np.load(f) for f in glob.glob(RCC_DIRECTORY_PATH+\"/*CON*\")])\n",
    "\n",
    "xs_stroke_gc = np.array([np.load(f) for f in glob.glob(GC_DIRECTORY_PATH+\"/*PAT*\")])\n",
    "xs_control_gc = np.array([np.load(f) for f in glob.glob(GC_DIRECTORY_PATH+\"/*CON*\")])\n",
    "\n",
    "xs_stroke_rcc_ltp = np.array([np.load(f) for f in glob.glob(RCC_LTP_DIRECTORY_PATH+\"/*PAT*\")])\n",
    "xs_control_rcc_ltp = np.array([np.load(f) for f in glob.glob(RCC_LTP_DIRECTORY_PATH+\"/*CON*\")])"
   ]
  },
  {
   "cell_type": "code",
   "execution_count": 78,
   "metadata": {},
   "outputs": [],
   "source": [
    "def interpretation_figure(explenations_array: np.ndarray, suffix: str, stroke: bool, n_stds: float = 3.0):\n",
    "\n",
    "    # Fetch the schaefer parcellation and the yeo networks\n",
    "    schaefer = datasets.fetch_parcellation('fsaverage5','schaefer',100)\n",
    "    network_names, yeo_colormap = fetch_yeo_networks_metadata(7)\n",
    "\n",
    "    # Aggregate the explanations\n",
    "\n",
    "    # Calculate the mean and std of the non-zero explanations\n",
    "    explenations_summed = explenations_array.sum(axis=0)\n",
    "    explanations_nonzero = explenations_summed[explenations_summed != 0]\n",
    "    mean, std = explanations_nonzero.mean(), explanations_nonzero.std()\n",
    "\n",
    "    # Count connection with importance greater than the threshold\n",
    "    if stroke:\n",
    "        # print(mean + n_stds * std)\n",
    "        thresholded = np.logical_and(explenations_summed > mean + n_stds * std, explenations_summed != 0)\n",
    "    else:\n",
    "        # print(mean - n_stds * std)\n",
    "        thresholded = np.logical_and(explenations_summed < mean - n_stds * std, explenations_summed != 0)\n",
    "    important_edges = np.where(thresholded, 1, 0)\n",
    "    print(f\"({suffix}) Ratio of important edges: {important_edges.sum() / 100}%\")\n",
    "\n",
    "    # The degree of each ROI reflects the number of important connections, hence the importance of the ROI\n",
    "    roi_degrees = important_edges.sum(axis=0)\n",
    "\n",
    "    # Map ROI degrees to the schaefer parcellation\n",
    "    schaefer_surf = map_to_labels(roi_degrees, schaefer, mask=schaefer!=0).astype(float)\n",
    "\n",
    "    # Map ROI degrees to the yeo networks and compute mean degree for each network\n",
    "    yeo_tstat_mean = yeo_networks_associations(schaefer_surf, \"fsaverage5\", seven_networks=True, reduction_operation=\"mean\")\n",
    "\n",
    "    # Plot the results \n",
    "    # - plot the brain surface with the sum aggregated explanations\n",
    "    reset_style()\n",
    "    plt.rcParams.update({\n",
    "        'font.size': 9,\n",
    "        'font.family': 'serif',\n",
    "        'font.serif': [\"Times\"],\n",
    "    })\n",
    "    plot = Plot(lh, rh)\n",
    "    plot.add_layer(schaefer_surf, cbar=False)\n",
    "    fig = plot.build()\n",
    "    fig.savefig(f\"xai_surfplot_{suffix}.pdf\", bbox_inches=\"tight\")\n",
    "    plt.clf()\n",
    "\n",
    "    # - plot the mean aggregated explanations for the yeo networks\n",
    "    set_style()\n",
    "    fig, ax = plt.subplots(1, 1, figsize=(COLUMN_WIDTH, COLUMN_HIGHT))\n",
    "    ax.bar(\n",
    "        np.arange(7),\n",
    "        yeo_tstat_mean[:, 0],\n",
    "        color=yeo_colormap,\n",
    "        error_kw={\"elinewidth\": 5},\n",
    "    )\n",
    "    ax.set_xticks(np.arange(7), network_names, rotation=90)\n",
    "    # ax.set_yticks(fontsize=14)\n",
    "    ax.set_ylabel(\"Mean degree\")\n",
    "    plt.savefig(f\"xai_yeo_{suffix}.pdf\", bbox_inches=\"tight\")\n",
    "    # plt.gcf().subplots_adjust(left=0.2, bottom=0.5)\n",
    "    plt.clf()"
   ]
  },
  {
   "cell_type": "code",
   "execution_count": 79,
   "metadata": {},
   "outputs": [
    {
     "name": "stdout",
     "output_type": "stream",
     "text": [
      "(stroke-rcc-gcn) Ratio of important edges: 1.5%\n",
      "(control-rcc-gcn) Ratio of important edges: 0.58%\n",
      "(stroke-gc-gcn) Ratio of important edges: 1.41%\n",
      "(control-gc-gcn) Ratio of important edges: 0.44%\n",
      "(stroke-rcc-ltp) Ratio of important edges: 0.68%\n",
      "(control-rcc-ltp) Ratio of important edges: 0.19%\n"
     ]
    }
   ],
   "source": [
    "N_STDS = 2.\n",
    "\n",
    "interpretation_figure(xs_stroke_rcc, \"stroke-rcc-gcn\", True, N_STDS)\n",
    "interpretation_figure(xs_control_rcc, \"control-rcc-gcn\", False, N_STDS)\n",
    "interpretation_figure(xs_stroke_gc, \"stroke-gc-gcn\", True, N_STDS)\n",
    "interpretation_figure(xs_control_gc, \"control-gc-gcn\", False, N_STDS)\n",
    "interpretation_figure(xs_stroke_rcc_ltp, \"stroke-rcc-ltp\", True, N_STDS)\n",
    "interpretation_figure(xs_control_rcc_ltp, \"control-rcc-ltp\", False, N_STDS)"
   ]
  },
  {
   "cell_type": "code",
   "execution_count": 12,
   "metadata": {},
   "outputs": [
    {
     "name": "stderr",
     "output_type": "stream",
     "text": [
      "/var/folders/bq/tb_cjs010kx_w5_vcqdxpr340000gn/T/ipykernel_39817/1119853281.py:13: MatplotlibDeprecationWarning: Unable to determine Axes to steal space for Colorbar. Using gca(), but will raise in the future. Either provide the *cax* argument to use as the Axes for the Colorbar, provide the *ax* argument to steal space from it, or add *mappable* to an Axes.\n",
      "  cbar = fig.colorbar(sm, orientation='horizontal')\n"
     ]
    },
    {
     "data": {
      "image/png": "[encoded data removed]",
      "text/plain": [
       "<Figure size 126x38.9361 with 2 Axes>"
      ]
     },
     "metadata": {},
     "output_type": "display_data"
    }
   ],
   "source": [
    "def plot_colorbar():\n",
    "\n",
    "    # Create a dummy ScalarMappable object for the colorbar\n",
    "    cmap = plt.cm.viridis\n",
    "    norm = plt.Normalize(vmin=0, vmax=1)\n",
    "    sm = ScalarMappable(cmap=cmap, norm=norm)\n",
    "\n",
    "    # Create the figure and set it to be very narrow for the colorbar\n",
    "    fig, ax = plt.subplots(figsize=(COLUMN_WIDTH / 2, COLUMN_HIGHT / 4))\n",
    "    ax.axis('off')\n",
    "\n",
    "    # Create the colorbar with horizontal orientation\n",
    "    cbar = fig.colorbar(sm, orientation='horizontal')\n",
    "    cbar.set_ticks([0, 1], labels=['Strong\\ninfluence', 'Very strong\\ninfluence'])\n",
    "\n",
    "    plt.savefig(\"colorbar.pdf\", dpi=300, bbox_inches='tight')\n",
    "\n",
    "plot_colorbar()"
   ]
  },
  {
   "cell_type": "code",
   "execution_count": null,
   "metadata": {},
   "outputs": [],
   "source": []
  }
 ],
 "metadata": {
  "kernelspec": {
   "display_name": "sano",
   "language": "python",
   "name": "python3"
  },
  "language_info": {
   "codemirror_mode": {
    "name": "ipython",
    "version": 3
   },
   "file_extension": ".py",
   "mimetype": "text/x-python",
   "name": "python",
   "nbconvert_exporter": "python",
   "pygments_lexer": "ipython3",
   "version": "3.10.4"
  }
 },
 "nbformat": 4,
 "nbformat_minor": 2
}
