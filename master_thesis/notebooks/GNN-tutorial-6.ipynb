{
 "cells": [
  {
   "cell_type": "code",
   "execution_count": 1,
   "metadata": {},
   "outputs": [
    {
     "name": "stdout",
     "output_type": "stream",
     "text": [
      "2.0.1\n"
     ]
    }
   ],
   "source": [
    "import os\n",
    "import torch\n",
    "os.environ['TORCH'] = torch.__version__\n",
    "print(torch.__version__)"
   ]
  },
  {
   "cell_type": "code",
   "execution_count": 2,
   "metadata": {},
   "outputs": [],
   "source": [
    "import torch\n",
    "from torch_geometric.datasets import Planetoid\n",
    "import torch_geometric.transforms as T\n",
    "from torch_geometric.nn import GCNConv\n",
    "from torch_geometric.utils import train_test_split_edges"
   ]
  },
  {
   "cell_type": "markdown",
   "metadata": {},
   "source": [
    "# Tutorial 6  \n",
    "Graph AutoEncoders GAE &  \n",
    "Variational Graph Autoencoders VGAE    \n",
    "\n",
    "[paper](https://arxiv.org/pdf/1611.07308.pdf)  \n",
    "[code](https://github.com/rusty1s/pytorch_geometric/blob/master/examples/autoencoder.py)"
   ]
  },
  {
   "cell_type": "markdown",
   "metadata": {},
   "source": [
    "## Graph AutoEncoder GAE"
   ]
  },
  {
   "cell_type": "markdown",
   "metadata": {},
   "source": [
    "### Load the data"
   ]
  },
  {
   "cell_type": "code",
   "execution_count": 3,
   "metadata": {},
   "outputs": [
    {
     "name": "stderr",
     "output_type": "stream",
     "text": [
      "Downloading https://github.com/kimiyoung/planetoid/raw/master/data/ind.citeseer.x\n",
      "Downloading https://github.com/kimiyoung/planetoid/raw/master/data/ind.citeseer.tx\n",
      "Downloading https://github.com/kimiyoung/planetoid/raw/master/data/ind.citeseer.allx\n",
      "Downloading https://github.com/kimiyoung/planetoid/raw/master/data/ind.citeseer.y\n",
      "Downloading https://github.com/kimiyoung/planetoid/raw/master/data/ind.citeseer.ty\n",
      "Downloading https://github.com/kimiyoung/planetoid/raw/master/data/ind.citeseer.ally\n",
      "Downloading https://github.com/kimiyoung/planetoid/raw/master/data/ind.citeseer.graph\n",
      "Downloading https://github.com/kimiyoung/planetoid/raw/master/data/ind.citeseer.test.index\n",
      "Processing...\n",
      "Done!\n",
      "/Users/wciezobka/venvs/sano/lib/python3.10/site-packages/torch_geometric/data/in_memory_dataset.py:284: UserWarning: It is not recommended to directly access the internal storage format `data` of an 'InMemoryDataset'. If you are absolutely certain what you are doing, access the internal storage via `InMemoryDataset._data` instead to suppress this warning. Alternatively, you can access stacked individual attributes of every graph via `dataset.{attr_name}`.\n",
      "  warnings.warn(msg)\n"
     ]
    },
    {
     "data": {
      "text/plain": [
       "Data(x=[3327, 3703], edge_index=[2, 9104], y=[3327], train_mask=[3327], val_mask=[3327], test_mask=[3327])"
      ]
     },
     "execution_count": 3,
     "metadata": {},
     "output_type": "execute_result"
    }
   ],
   "source": [
    "dataset = Planetoid(\"/Users/wciezobka/sano/projects/masters-thesis/Datasets\", \"CiteSeer\", transform=T.NormalizeFeatures())\n",
    "dataset.data"
   ]
  },
  {
   "cell_type": "code",
   "execution_count": 4,
   "metadata": {},
   "outputs": [
    {
     "data": {
      "text/plain": [
       "Data(x=[3327, 3703], edge_index=[2, 9104], y=[3327])"
      ]
     },
     "execution_count": 4,
     "metadata": {},
     "output_type": "execute_result"
    }
   ],
   "source": [
    "data = dataset[0]\n",
    "data.train_mask = data.val_mask = data.test_mask = None\n",
    "data"
   ]
  },
  {
   "cell_type": "code",
   "execution_count": 5,
   "metadata": {},
   "outputs": [
    {
     "name": "stderr",
     "output_type": "stream",
     "text": [
      "/Users/wciezobka/venvs/sano/lib/python3.10/site-packages/torch_geometric/deprecation.py:22: UserWarning: 'train_test_split_edges' is deprecated, use 'transforms.RandomLinkSplit' instead\n",
      "  warnings.warn(out)\n"
     ]
    }
   ],
   "source": [
    "data = train_test_split_edges(data)"
   ]
  },
  {
   "cell_type": "code",
   "execution_count": 6,
   "metadata": {},
   "outputs": [
    {
     "data": {
      "text/plain": [
       "Data(x=[3327, 3703], y=[3327], val_pos_edge_index=[2, 227], test_pos_edge_index=[2, 455], train_pos_edge_index=[2, 7740], train_neg_adj_mask=[3327, 3327], val_neg_edge_index=[2, 227], test_neg_edge_index=[2, 455])"
      ]
     },
     "execution_count": 6,
     "metadata": {},
     "output_type": "execute_result"
    }
   ],
   "source": [
    "data"
   ]
  },
  {
   "cell_type": "markdown",
   "metadata": {},
   "source": [
    "### Define the Encoder"
   ]
  },
  {
   "cell_type": "code",
   "execution_count": 7,
   "metadata": {},
   "outputs": [],
   "source": [
    "class GCNEncoder(torch.nn.Module):\n",
    "    def __init__(self, in_channels, out_channels):\n",
    "        super(GCNEncoder, self).__init__()\n",
    "        self.conv1 = GCNConv(in_channels, 2 * out_channels, cached=True) # cached only for transductive learning\n",
    "        self.conv2 = GCNConv(2 * out_channels, out_channels, cached=True) # cached only for transductive learning\n",
    "\n",
    "    def forward(self, x, edge_index):\n",
    "        x = self.conv1(x, edge_index).relu()\n",
    "        return self.conv2(x, edge_index)\n",
    "    "
   ]
  },
  {
   "cell_type": "markdown",
   "metadata": {},
   "source": [
    "### Define the Autoencoder"
   ]
  },
  {
   "cell_type": "code",
   "execution_count": 8,
   "metadata": {},
   "outputs": [],
   "source": [
    "from torch_geometric.nn import GAE"
   ]
  },
  {
   "cell_type": "code",
   "execution_count": 9,
   "metadata": {},
   "outputs": [],
   "source": [
    "# parameters\n",
    "out_channels = 2\n",
    "num_features = dataset.num_features\n",
    "epochs = 100\n",
    "\n",
    "# model\n",
    "model = GAE(GCNEncoder(num_features, out_channels))\n",
    "\n",
    "# move to GPU (if available)\n",
    "device = torch.device('cuda' if torch.cuda.is_available() else 'cpu')\n",
    "model = model.to(device)\n",
    "x = data.x.to(device)\n",
    "train_pos_edge_index = data.train_pos_edge_index.to(device)\n",
    "\n",
    "# inizialize the optimizer\n",
    "optimizer = torch.optim.Adam(model.parameters(), lr=0.01)"
   ]
  },
  {
   "cell_type": "code",
   "execution_count": 10,
   "metadata": {},
   "outputs": [],
   "source": [
    "def train():\n",
    "    model.train()\n",
    "    optimizer.zero_grad()\n",
    "    z = model.encode(x, train_pos_edge_index)\n",
    "    loss = model.recon_loss(z, train_pos_edge_index)\n",
    "    #if args.variational:\n",
    "    #   loss = loss + (1 / data.num_nodes) * model.kl_loss()\n",
    "    loss.backward()\n",
    "    optimizer.step()\n",
    "    return float(loss)\n",
    "\n",
    "\n",
    "def test(pos_edge_index, neg_edge_index):\n",
    "    model.eval()\n",
    "    with torch.no_grad():\n",
    "        z = model.encode(x, train_pos_edge_index)\n",
    "    return model.test(z, pos_edge_index, neg_edge_index)\n",
    "\n"
   ]
  },
  {
   "cell_type": "code",
   "execution_count": 11,
   "metadata": {
    "scrolled": true
   },
   "outputs": [
    {
     "name": "stdout",
     "output_type": "stream",
     "text": [
      "Epoch: 001, AUC: 0.6099, AP: 0.6496\n",
      "Epoch: 002, AUC: 0.6462, AP: 0.6750\n",
      "Epoch: 003, AUC: 0.6507, AP: 0.6809\n",
      "Epoch: 004, AUC: 0.6537, AP: 0.6847\n",
      "Epoch: 005, AUC: 0.6561, AP: 0.6877\n",
      "Epoch: 006, AUC: 0.6580, AP: 0.6907\n",
      "Epoch: 007, AUC: 0.6592, AP: 0.6926\n",
      "Epoch: 008, AUC: 0.6594, AP: 0.6938\n",
      "Epoch: 009, AUC: 0.6602, AP: 0.6962\n",
      "Epoch: 010, AUC: 0.6609, AP: 0.6996\n",
      "Epoch: 011, AUC: 0.6610, AP: 0.7020\n",
      "Epoch: 012, AUC: 0.6603, AP: 0.7044\n",
      "Epoch: 013, AUC: 0.6599, AP: 0.7071\n",
      "Epoch: 014, AUC: 0.6589, AP: 0.7091\n",
      "Epoch: 015, AUC: 0.6576, AP: 0.7112\n",
      "Epoch: 016, AUC: 0.6570, AP: 0.7135\n",
      "Epoch: 017, AUC: 0.6556, AP: 0.7150\n",
      "Epoch: 018, AUC: 0.6549, AP: 0.7166\n",
      "Epoch: 019, AUC: 0.6539, AP: 0.7173\n",
      "Epoch: 020, AUC: 0.6533, AP: 0.7178\n",
      "Epoch: 021, AUC: 0.6526, AP: 0.7185\n",
      "Epoch: 022, AUC: 0.6521, AP: 0.7189\n",
      "Epoch: 023, AUC: 0.6517, AP: 0.7192\n",
      "Epoch: 024, AUC: 0.6513, AP: 0.7195\n",
      "Epoch: 025, AUC: 0.6512, AP: 0.7199\n",
      "Epoch: 026, AUC: 0.6512, AP: 0.7203\n",
      "Epoch: 027, AUC: 0.6512, AP: 0.7208\n",
      "Epoch: 028, AUC: 0.6520, AP: 0.7216\n",
      "Epoch: 029, AUC: 0.6530, AP: 0.7225\n",
      "Epoch: 030, AUC: 0.6549, AP: 0.7236\n",
      "Epoch: 031, AUC: 0.6581, AP: 0.7253\n",
      "Epoch: 032, AUC: 0.6622, AP: 0.7272\n",
      "Epoch: 033, AUC: 0.6667, AP: 0.7291\n",
      "Epoch: 034, AUC: 0.6714, AP: 0.7313\n",
      "Epoch: 035, AUC: 0.6764, AP: 0.7335\n",
      "Epoch: 036, AUC: 0.6828, AP: 0.7364\n",
      "Epoch: 037, AUC: 0.6902, AP: 0.7395\n",
      "Epoch: 038, AUC: 0.7005, AP: 0.7440\n",
      "Epoch: 039, AUC: 0.7120, AP: 0.7494\n",
      "Epoch: 040, AUC: 0.7232, AP: 0.7551\n",
      "Epoch: 041, AUC: 0.7339, AP: 0.7610\n",
      "Epoch: 042, AUC: 0.7426, AP: 0.7657\n",
      "Epoch: 043, AUC: 0.7490, AP: 0.7692\n",
      "Epoch: 044, AUC: 0.7548, AP: 0.7727\n",
      "Epoch: 045, AUC: 0.7601, AP: 0.7759\n",
      "Epoch: 046, AUC: 0.7633, AP: 0.7783\n",
      "Epoch: 047, AUC: 0.7655, AP: 0.7801\n",
      "Epoch: 048, AUC: 0.7666, AP: 0.7815\n",
      "Epoch: 049, AUC: 0.7670, AP: 0.7819\n",
      "Epoch: 050, AUC: 0.7674, AP: 0.7823\n",
      "Epoch: 051, AUC: 0.7678, AP: 0.7829\n",
      "Epoch: 052, AUC: 0.7683, AP: 0.7836\n",
      "Epoch: 053, AUC: 0.7678, AP: 0.7835\n",
      "Epoch: 054, AUC: 0.7670, AP: 0.7836\n",
      "Epoch: 055, AUC: 0.7666, AP: 0.7841\n",
      "Epoch: 056, AUC: 0.7665, AP: 0.7844\n",
      "Epoch: 057, AUC: 0.7667, AP: 0.7850\n",
      "Epoch: 058, AUC: 0.7671, AP: 0.7857\n",
      "Epoch: 059, AUC: 0.7672, AP: 0.7860\n",
      "Epoch: 060, AUC: 0.7675, AP: 0.7865\n",
      "Epoch: 061, AUC: 0.7674, AP: 0.7868\n",
      "Epoch: 062, AUC: 0.7675, AP: 0.7871\n",
      "Epoch: 063, AUC: 0.7677, AP: 0.7875\n",
      "Epoch: 064, AUC: 0.7681, AP: 0.7880\n",
      "Epoch: 065, AUC: 0.7685, AP: 0.7884\n",
      "Epoch: 066, AUC: 0.7687, AP: 0.7886\n",
      "Epoch: 067, AUC: 0.7687, AP: 0.7884\n",
      "Epoch: 068, AUC: 0.7686, AP: 0.7882\n",
      "Epoch: 069, AUC: 0.7682, AP: 0.7876\n",
      "Epoch: 070, AUC: 0.7687, AP: 0.7879\n",
      "Epoch: 071, AUC: 0.7696, AP: 0.7887\n",
      "Epoch: 072, AUC: 0.7704, AP: 0.7893\n",
      "Epoch: 073, AUC: 0.7709, AP: 0.7895\n",
      "Epoch: 074, AUC: 0.7709, AP: 0.7893\n",
      "Epoch: 075, AUC: 0.7705, AP: 0.7887\n",
      "Epoch: 076, AUC: 0.7700, AP: 0.7880\n",
      "Epoch: 077, AUC: 0.7693, AP: 0.7870\n",
      "Epoch: 078, AUC: 0.7697, AP: 0.7869\n",
      "Epoch: 079, AUC: 0.7705, AP: 0.7873\n",
      "Epoch: 080, AUC: 0.7712, AP: 0.7878\n",
      "Epoch: 081, AUC: 0.7713, AP: 0.7877\n",
      "Epoch: 082, AUC: 0.7712, AP: 0.7873\n",
      "Epoch: 083, AUC: 0.7706, AP: 0.7864\n",
      "Epoch: 084, AUC: 0.7705, AP: 0.7860\n",
      "Epoch: 085, AUC: 0.7707, AP: 0.7859\n",
      "Epoch: 086, AUC: 0.7710, AP: 0.7860\n",
      "Epoch: 087, AUC: 0.7708, AP: 0.7855\n",
      "Epoch: 088, AUC: 0.7710, AP: 0.7854\n",
      "Epoch: 089, AUC: 0.7714, AP: 0.7857\n",
      "Epoch: 090, AUC: 0.7713, AP: 0.7854\n",
      "Epoch: 091, AUC: 0.7712, AP: 0.7851\n",
      "Epoch: 092, AUC: 0.7708, AP: 0.7844\n",
      "Epoch: 093, AUC: 0.7706, AP: 0.7840\n",
      "Epoch: 094, AUC: 0.7710, AP: 0.7842\n",
      "Epoch: 095, AUC: 0.7709, AP: 0.7838\n",
      "Epoch: 096, AUC: 0.7708, AP: 0.7834\n",
      "Epoch: 097, AUC: 0.7710, AP: 0.7833\n",
      "Epoch: 098, AUC: 0.7709, AP: 0.7830\n",
      "Epoch: 099, AUC: 0.7710, AP: 0.7829\n",
      "Epoch: 100, AUC: 0.7714, AP: 0.7829\n"
     ]
    }
   ],
   "source": [
    "for epoch in range(1, epochs + 1):\n",
    "    loss = train()\n",
    "\n",
    "    auc, ap = test(data.test_pos_edge_index, data.test_neg_edge_index)\n",
    "    print('Epoch: {:03d}, AUC: {:.4f}, AP: {:.4f}'.format(epoch, auc, ap))"
   ]
  },
  {
   "cell_type": "code",
   "execution_count": 13,
   "metadata": {},
   "outputs": [
    {
     "data": {
      "text/plain": [
       "torch.Size([3327, 2])"
      ]
     },
     "execution_count": 13,
     "metadata": {},
     "output_type": "execute_result"
    }
   ],
   "source": [
    "Z = model.encode(x, train_pos_edge_index)\n",
    "Z.shape"
   ]
  },
  {
   "cell_type": "markdown",
   "metadata": {},
   "source": [
    "## Are the results (AUC) and (AP) easy to read and compare?"
   ]
  },
  {
   "cell_type": "markdown",
   "metadata": {},
   "source": [
    "# Use Tensorboard"
   ]
  },
  {
   "cell_type": "code",
   "execution_count": 15,
   "metadata": {},
   "outputs": [],
   "source": [
    "from torch.utils.tensorboard import SummaryWriter"
   ]
  },
  {
   "cell_type": "code",
   "execution_count": 28,
   "metadata": {},
   "outputs": [],
   "source": [
    "# parameters\n",
    "out_channels = 2\n",
    "num_features = dataset.num_features\n",
    "epochs = 100\n",
    "\n",
    "# model\n",
    "model = GAE(GCNEncoder(num_features, out_channels))\n",
    "\n",
    "# move to GPU (if available)\n",
    "device = torch.device('cuda' if torch.cuda.is_available() else 'cpu')\n",
    "model = model.to(device)\n",
    "x = data.x.to(device)\n",
    "train_pos_edge_index = data.train_pos_edge_index.to(device)\n",
    "\n",
    "# inizialize the optimizer\n",
    "optimizer = torch.optim.Adam(model.parameters(), lr=0.01)"
   ]
  },
  {
   "cell_type": "markdown",
   "metadata": {},
   "source": [
    "### Import tensorboard\n",
    "\n",
    "#### Installation: (if needed) \"pip install tensorboard\""
   ]
  },
  {
   "cell_type": "code",
   "execution_count": 29,
   "metadata": {},
   "outputs": [],
   "source": [
    "writer = SummaryWriter('../../Logs/GAE1_experiment_'+'2d_100_epochs')"
   ]
  },
  {
   "cell_type": "code",
   "execution_count": 30,
   "metadata": {
    "scrolled": true
   },
   "outputs": [
    {
     "name": "stdout",
     "output_type": "stream",
     "text": [
      "Epoch: 001, AUC: 0.6490, AP: 0.6802\n",
      "Epoch: 002, AUC: 0.6524, AP: 0.6859\n",
      "Epoch: 003, AUC: 0.6573, AP: 0.6915\n",
      "Epoch: 004, AUC: 0.6601, AP: 0.6946\n",
      "Epoch: 005, AUC: 0.6612, AP: 0.6960\n",
      "Epoch: 006, AUC: 0.6622, AP: 0.6974\n",
      "Epoch: 007, AUC: 0.6636, AP: 0.6989\n",
      "Epoch: 008, AUC: 0.6642, AP: 0.7000\n",
      "Epoch: 009, AUC: 0.6652, AP: 0.7011\n",
      "Epoch: 010, AUC: 0.6648, AP: 0.7018\n",
      "Epoch: 011, AUC: 0.6647, AP: 0.7027\n",
      "Epoch: 012, AUC: 0.6647, AP: 0.7042\n",
      "Epoch: 013, AUC: 0.6648, AP: 0.7061\n",
      "Epoch: 014, AUC: 0.6649, AP: 0.7085\n",
      "Epoch: 015, AUC: 0.6646, AP: 0.7112\n",
      "Epoch: 016, AUC: 0.6643, AP: 0.7137\n",
      "Epoch: 017, AUC: 0.6636, AP: 0.7161\n",
      "Epoch: 018, AUC: 0.6633, AP: 0.7187\n",
      "Epoch: 019, AUC: 0.6627, AP: 0.7200\n",
      "Epoch: 020, AUC: 0.6623, AP: 0.7215\n",
      "Epoch: 021, AUC: 0.6617, AP: 0.7228\n",
      "Epoch: 022, AUC: 0.6614, AP: 0.7237\n",
      "Epoch: 023, AUC: 0.6610, AP: 0.7244\n",
      "Epoch: 024, AUC: 0.6610, AP: 0.7253\n",
      "Epoch: 025, AUC: 0.6608, AP: 0.7255\n",
      "Epoch: 026, AUC: 0.6607, AP: 0.7258\n",
      "Epoch: 027, AUC: 0.6608, AP: 0.7262\n",
      "Epoch: 028, AUC: 0.6607, AP: 0.7265\n",
      "Epoch: 029, AUC: 0.6605, AP: 0.7265\n",
      "Epoch: 030, AUC: 0.6604, AP: 0.7270\n",
      "Epoch: 031, AUC: 0.6610, AP: 0.7279\n",
      "Epoch: 032, AUC: 0.6613, AP: 0.7282\n",
      "Epoch: 033, AUC: 0.6624, AP: 0.7292\n",
      "Epoch: 034, AUC: 0.6645, AP: 0.7305\n",
      "Epoch: 035, AUC: 0.6659, AP: 0.7311\n",
      "Epoch: 036, AUC: 0.6687, AP: 0.7320\n",
      "Epoch: 037, AUC: 0.6724, AP: 0.7334\n",
      "Epoch: 038, AUC: 0.6757, AP: 0.7344\n",
      "Epoch: 039, AUC: 0.6794, AP: 0.7357\n",
      "Epoch: 040, AUC: 0.6836, AP: 0.7374\n",
      "Epoch: 041, AUC: 0.6880, AP: 0.7391\n",
      "Epoch: 042, AUC: 0.6941, AP: 0.7416\n",
      "Epoch: 043, AUC: 0.7033, AP: 0.7458\n",
      "Epoch: 044, AUC: 0.7119, AP: 0.7497\n",
      "Epoch: 045, AUC: 0.7205, AP: 0.7539\n",
      "Epoch: 046, AUC: 0.7288, AP: 0.7584\n",
      "Epoch: 047, AUC: 0.7357, AP: 0.7618\n",
      "Epoch: 048, AUC: 0.7408, AP: 0.7644\n",
      "Epoch: 049, AUC: 0.7444, AP: 0.7662\n",
      "Epoch: 050, AUC: 0.7485, AP: 0.7686\n",
      "Epoch: 051, AUC: 0.7539, AP: 0.7717\n",
      "Epoch: 052, AUC: 0.7581, AP: 0.7740\n",
      "Epoch: 053, AUC: 0.7612, AP: 0.7757\n",
      "Epoch: 054, AUC: 0.7636, AP: 0.7772\n",
      "Epoch: 055, AUC: 0.7648, AP: 0.7779\n",
      "Epoch: 056, AUC: 0.7665, AP: 0.7794\n",
      "Epoch: 057, AUC: 0.7668, AP: 0.7796\n",
      "Epoch: 058, AUC: 0.7671, AP: 0.7802\n",
      "Epoch: 059, AUC: 0.7676, AP: 0.7809\n",
      "Epoch: 060, AUC: 0.7682, AP: 0.7818\n",
      "Epoch: 061, AUC: 0.7693, AP: 0.7833\n",
      "Epoch: 062, AUC: 0.7704, AP: 0.7844\n",
      "Epoch: 063, AUC: 0.7705, AP: 0.7847\n",
      "Epoch: 064, AUC: 0.7707, AP: 0.7848\n",
      "Epoch: 065, AUC: 0.7709, AP: 0.7853\n",
      "Epoch: 066, AUC: 0.7707, AP: 0.7855\n",
      "Epoch: 067, AUC: 0.7716, AP: 0.7863\n",
      "Epoch: 068, AUC: 0.7720, AP: 0.7868\n",
      "Epoch: 069, AUC: 0.7725, AP: 0.7875\n",
      "Epoch: 070, AUC: 0.7728, AP: 0.7876\n",
      "Epoch: 071, AUC: 0.7729, AP: 0.7879\n",
      "Epoch: 072, AUC: 0.7733, AP: 0.7880\n",
      "Epoch: 073, AUC: 0.7737, AP: 0.7883\n",
      "Epoch: 074, AUC: 0.7739, AP: 0.7885\n",
      "Epoch: 075, AUC: 0.7745, AP: 0.7887\n",
      "Epoch: 076, AUC: 0.7748, AP: 0.7887\n",
      "Epoch: 077, AUC: 0.7751, AP: 0.7890\n",
      "Epoch: 078, AUC: 0.7758, AP: 0.7894\n",
      "Epoch: 079, AUC: 0.7764, AP: 0.7899\n",
      "Epoch: 080, AUC: 0.7765, AP: 0.7898\n",
      "Epoch: 081, AUC: 0.7771, AP: 0.7900\n",
      "Epoch: 082, AUC: 0.7776, AP: 0.7900\n",
      "Epoch: 083, AUC: 0.7778, AP: 0.7898\n",
      "Epoch: 084, AUC: 0.7778, AP: 0.7896\n",
      "Epoch: 085, AUC: 0.7783, AP: 0.7898\n",
      "Epoch: 086, AUC: 0.7786, AP: 0.7899\n",
      "Epoch: 087, AUC: 0.7791, AP: 0.7897\n",
      "Epoch: 088, AUC: 0.7799, AP: 0.7903\n",
      "Epoch: 089, AUC: 0.7802, AP: 0.7903\n",
      "Epoch: 090, AUC: 0.7804, AP: 0.7906\n",
      "Epoch: 091, AUC: 0.7806, AP: 0.7904\n",
      "Epoch: 092, AUC: 0.7813, AP: 0.7908\n",
      "Epoch: 093, AUC: 0.7821, AP: 0.7911\n",
      "Epoch: 094, AUC: 0.7825, AP: 0.7913\n",
      "Epoch: 095, AUC: 0.7827, AP: 0.7911\n",
      "Epoch: 096, AUC: 0.7828, AP: 0.7910\n",
      "Epoch: 097, AUC: 0.7834, AP: 0.7912\n",
      "Epoch: 098, AUC: 0.7847, AP: 0.7921\n",
      "Epoch: 099, AUC: 0.7860, AP: 0.7928\n",
      "Epoch: 100, AUC: 0.7869, AP: 0.7934\n"
     ]
    }
   ],
   "source": [
    "for epoch in range(1, epochs + 1):\n",
    "    loss = train()\n",
    "    auc, ap = test(data.test_pos_edge_index, data.test_neg_edge_index)\n",
    "    print('Epoch: {:03d}, AUC: {:.4f}, AP: {:.4f}'.format(epoch, auc, ap))\n",
    "    \n",
    "    \n",
    "    writer.add_scalar('auc train',auc,epoch) # new line\n",
    "    writer.add_scalar('ap train',ap,epoch)   # new line"
   ]
  },
  {
   "cell_type": "code",
   "execution_count": null,
   "metadata": {},
   "outputs": [],
   "source": []
  },
  {
   "cell_type": "markdown",
   "metadata": {},
   "source": [
    "## Graph Variational AutoEncoder (GVAE)"
   ]
  },
  {
   "cell_type": "code",
   "execution_count": 21,
   "metadata": {},
   "outputs": [],
   "source": [
    "from torch_geometric.nn import VGAE"
   ]
  },
  {
   "cell_type": "code",
   "execution_count": 22,
   "metadata": {},
   "outputs": [
    {
     "name": "stderr",
     "output_type": "stream",
     "text": [
      "/home/antonio/anaconda3/envs/geometric_new/lib/python3.9/site-packages/torch_geometric/deprecation.py:12: UserWarning: 'train_test_split_edges' is deprecated, use 'transforms.RandomLinkSplit' instead\n",
      "  warnings.warn(out)\n"
     ]
    }
   ],
   "source": [
    "dataset = Planetoid(\"\\..\", \"CiteSeer\", transform=T.NormalizeFeatures())\n",
    "data = dataset[0]\n",
    "data.train_mask = data.val_mask = data.test_mask = data.y = None\n",
    "data = train_test_split_edges(data)\n",
    "\n",
    "\n",
    "class VariationalGCNEncoder(torch.nn.Module):\n",
    "    def __init__(self, in_channels, out_channels):\n",
    "        super(VariationalGCNEncoder, self).__init__()\n",
    "        self.conv1 = GCNConv(in_channels, 2 * out_channels, cached=True) # cached only for transductive learning\n",
    "        self.conv_mu = GCNConv(2 * out_channels, out_channels, cached=True)\n",
    "        self.conv_logstd = GCNConv(2 * out_channels, out_channels, cached=True)\n",
    "\n",
    "    def forward(self, x, edge_index):\n",
    "        x = self.conv1(x, edge_index).relu()\n",
    "        return self.conv_mu(x, edge_index), self.conv_logstd(x, edge_index)"
   ]
  },
  {
   "cell_type": "code",
   "execution_count": 23,
   "metadata": {},
   "outputs": [],
   "source": [
    "out_channels = 2\n",
    "num_features = dataset.num_features\n",
    "epochs = 300\n",
    "\n",
    "\n",
    "model = VGAE(VariationalGCNEncoder(num_features, out_channels))  # new line\n",
    "\n",
    "device = torch.device('cuda' if torch.cuda.is_available() else 'cpu')\n",
    "model = model.to(device)\n",
    "x = data.x.to(device)\n",
    "train_pos_edge_index = data.train_pos_edge_index.to(device)\n",
    "optimizer = torch.optim.Adam(model.parameters(), lr=0.01)"
   ]
  },
  {
   "cell_type": "code",
   "execution_count": 24,
   "metadata": {},
   "outputs": [],
   "source": [
    "def train():\n",
    "    model.train()\n",
    "    optimizer.zero_grad()\n",
    "    z = model.encode(x, train_pos_edge_index)\n",
    "    loss = model.recon_loss(z, train_pos_edge_index)\n",
    "    \n",
    "    loss = loss + (1 / data.num_nodes) * model.kl_loss()  # new line\n",
    "    loss.backward()\n",
    "    optimizer.step()\n",
    "    return float(loss)\n",
    "\n",
    "\n",
    "def test(pos_edge_index, neg_edge_index):\n",
    "    model.eval()\n",
    "    with torch.no_grad():\n",
    "        z = model.encode(x, train_pos_edge_index)\n",
    "    return model.test(z, pos_edge_index, neg_edge_index)"
   ]
  },
  {
   "cell_type": "code",
   "execution_count": 25,
   "metadata": {
    "scrolled": true
   },
   "outputs": [
    {
     "name": "stdout",
     "output_type": "stream",
     "text": [
      "Epoch: 001, AUC: 0.6043, AP: 0.6264\n",
      "Epoch: 002, AUC: 0.4937, AP: 0.5243\n",
      "Epoch: 003, AUC: 0.4943, AP: 0.5001\n",
      "Epoch: 004, AUC: 0.5013, AP: 0.5079\n",
      "Epoch: 005, AUC: 0.5011, AP: 0.5006\n",
      "Epoch: 006, AUC: 0.5022, AP: 0.5011\n",
      "Epoch: 007, AUC: 0.5022, AP: 0.5011\n",
      "Epoch: 008, AUC: 0.5022, AP: 0.5011\n",
      "Epoch: 009, AUC: 0.4978, AP: 0.5007\n",
      "Epoch: 010, AUC: 0.4978, AP: 0.5007\n",
      "Epoch: 011, AUC: 0.4978, AP: 0.5007\n",
      "Epoch: 012, AUC: 0.5011, AP: 0.5011\n",
      "Epoch: 013, AUC: 0.5011, AP: 0.5011\n",
      "Epoch: 014, AUC: 0.5011, AP: 0.5011\n",
      "Epoch: 015, AUC: 0.5011, AP: 0.5011\n",
      "Epoch: 016, AUC: 0.5011, AP: 0.5011\n",
      "Epoch: 017, AUC: 0.5011, AP: 0.5011\n",
      "Epoch: 018, AUC: 0.5011, AP: 0.5011\n",
      "Epoch: 019, AUC: 0.5011, AP: 0.5011\n",
      "Epoch: 020, AUC: 0.5011, AP: 0.5011\n",
      "Epoch: 021, AUC: 0.5011, AP: 0.5011\n",
      "Epoch: 022, AUC: 0.4989, AP: 0.4995\n",
      "Epoch: 023, AUC: 0.4989, AP: 0.4995\n",
      "Epoch: 024, AUC: 0.4989, AP: 0.4995\n",
      "Epoch: 025, AUC: 0.4989, AP: 0.4995\n",
      "Epoch: 026, AUC: 0.4989, AP: 0.4995\n",
      "Epoch: 027, AUC: 0.4989, AP: 0.4995\n",
      "Epoch: 028, AUC: 0.4989, AP: 0.4995\n",
      "Epoch: 029, AUC: 0.4989, AP: 0.4995\n",
      "Epoch: 030, AUC: 0.4989, AP: 0.4995\n",
      "Epoch: 031, AUC: 0.4989, AP: 0.4995\n",
      "Epoch: 032, AUC: 0.4989, AP: 0.4995\n",
      "Epoch: 033, AUC: 0.5011, AP: 0.5011\n",
      "Epoch: 034, AUC: 0.5011, AP: 0.5011\n",
      "Epoch: 035, AUC: 0.5011, AP: 0.5011\n",
      "Epoch: 036, AUC: 0.5011, AP: 0.5011\n",
      "Epoch: 037, AUC: 0.5011, AP: 0.5011\n",
      "Epoch: 038, AUC: 0.5011, AP: 0.5011\n",
      "Epoch: 039, AUC: 0.5011, AP: 0.5011\n",
      "Epoch: 040, AUC: 0.5011, AP: 0.5011\n",
      "Epoch: 041, AUC: 0.5011, AP: 0.5011\n",
      "Epoch: 042, AUC: 0.5011, AP: 0.5011\n",
      "Epoch: 043, AUC: 0.5011, AP: 0.5011\n",
      "Epoch: 044, AUC: 0.5011, AP: 0.5011\n",
      "Epoch: 045, AUC: 0.5011, AP: 0.5011\n",
      "Epoch: 046, AUC: 0.5011, AP: 0.5011\n",
      "Epoch: 047, AUC: 0.5011, AP: 0.5011\n",
      "Epoch: 048, AUC: 0.4989, AP: 0.4995\n",
      "Epoch: 049, AUC: 0.4989, AP: 0.4995\n",
      "Epoch: 050, AUC: 0.4989, AP: 0.4995\n",
      "Epoch: 051, AUC: 0.5011, AP: 0.5011\n",
      "Epoch: 052, AUC: 0.5011, AP: 0.5011\n",
      "Epoch: 053, AUC: 0.5011, AP: 0.5011\n",
      "Epoch: 054, AUC: 0.5011, AP: 0.5011\n",
      "Epoch: 055, AUC: 0.5011, AP: 0.5011\n",
      "Epoch: 056, AUC: 0.5011, AP: 0.5011\n",
      "Epoch: 057, AUC: 0.5011, AP: 0.5011\n",
      "Epoch: 058, AUC: 0.5011, AP: 0.5011\n",
      "Epoch: 059, AUC: 0.5011, AP: 0.5011\n",
      "Epoch: 060, AUC: 0.5011, AP: 0.5011\n",
      "Epoch: 061, AUC: 0.5011, AP: 0.5011\n",
      "Epoch: 062, AUC: 0.5011, AP: 0.5011\n",
      "Epoch: 063, AUC: 0.5011, AP: 0.5011\n",
      "Epoch: 064, AUC: 0.5011, AP: 0.5011\n",
      "Epoch: 065, AUC: 0.5011, AP: 0.5011\n",
      "Epoch: 066, AUC: 0.5011, AP: 0.5011\n",
      "Epoch: 067, AUC: 0.5011, AP: 0.5011\n",
      "Epoch: 068, AUC: 0.5011, AP: 0.5011\n",
      "Epoch: 069, AUC: 0.5011, AP: 0.5011\n",
      "Epoch: 070, AUC: 0.5000, AP: 0.5000\n",
      "Epoch: 071, AUC: 0.4989, AP: 0.4995\n",
      "Epoch: 072, AUC: 0.4989, AP: 0.4995\n",
      "Epoch: 073, AUC: 0.4989, AP: 0.4995\n",
      "Epoch: 074, AUC: 0.4989, AP: 0.4995\n",
      "Epoch: 075, AUC: 0.4989, AP: 0.4995\n",
      "Epoch: 076, AUC: 0.4989, AP: 0.4995\n",
      "Epoch: 077, AUC: 0.4989, AP: 0.4995\n",
      "Epoch: 078, AUC: 0.4989, AP: 0.4995\n",
      "Epoch: 079, AUC: 0.4989, AP: 0.4995\n",
      "Epoch: 080, AUC: 0.4989, AP: 0.4995\n",
      "Epoch: 081, AUC: 0.4989, AP: 0.4995\n",
      "Epoch: 082, AUC: 0.5011, AP: 0.5011\n",
      "Epoch: 083, AUC: 0.5011, AP: 0.5011\n",
      "Epoch: 084, AUC: 0.5011, AP: 0.5011\n",
      "Epoch: 085, AUC: 0.5011, AP: 0.5011\n",
      "Epoch: 086, AUC: 0.5011, AP: 0.5011\n",
      "Epoch: 087, AUC: 0.5011, AP: 0.5011\n",
      "Epoch: 088, AUC: 0.5011, AP: 0.5011\n",
      "Epoch: 089, AUC: 0.5011, AP: 0.5011\n",
      "Epoch: 090, AUC: 0.5011, AP: 0.5011\n",
      "Epoch: 091, AUC: 0.5011, AP: 0.5011\n",
      "Epoch: 092, AUC: 0.5011, AP: 0.5011\n",
      "Epoch: 093, AUC: 0.5011, AP: 0.5011\n",
      "Epoch: 094, AUC: 0.5011, AP: 0.5011\n",
      "Epoch: 095, AUC: 0.5011, AP: 0.5011\n",
      "Epoch: 096, AUC: 0.5011, AP: 0.5011\n",
      "Epoch: 097, AUC: 0.5011, AP: 0.5011\n",
      "Epoch: 098, AUC: 0.5011, AP: 0.5011\n",
      "Epoch: 099, AUC: 0.4989, AP: 0.4995\n",
      "Epoch: 100, AUC: 0.4989, AP: 0.4995\n",
      "Epoch: 101, AUC: 0.4989, AP: 0.4995\n",
      "Epoch: 102, AUC: 0.4989, AP: 0.4995\n",
      "Epoch: 103, AUC: 0.4989, AP: 0.4995\n",
      "Epoch: 104, AUC: 0.4989, AP: 0.4995\n",
      "Epoch: 105, AUC: 0.4989, AP: 0.4995\n",
      "Epoch: 106, AUC: 0.4989, AP: 0.4995\n",
      "Epoch: 107, AUC: 0.4989, AP: 0.4995\n",
      "Epoch: 108, AUC: 0.4989, AP: 0.4995\n",
      "Epoch: 109, AUC: 0.4989, AP: 0.4995\n",
      "Epoch: 110, AUC: 0.4989, AP: 0.4995\n",
      "Epoch: 111, AUC: 0.4989, AP: 0.4995\n",
      "Epoch: 112, AUC: 0.4989, AP: 0.4995\n",
      "Epoch: 113, AUC: 0.4989, AP: 0.4995\n",
      "Epoch: 114, AUC: 0.4989, AP: 0.4995\n",
      "Epoch: 115, AUC: 0.4989, AP: 0.4995\n",
      "Epoch: 116, AUC: 0.4989, AP: 0.4995\n",
      "Epoch: 117, AUC: 0.4989, AP: 0.4995\n",
      "Epoch: 118, AUC: 0.4989, AP: 0.4995\n",
      "Epoch: 119, AUC: 0.4989, AP: 0.4995\n",
      "Epoch: 120, AUC: 0.4989, AP: 0.4995\n",
      "Epoch: 121, AUC: 0.4989, AP: 0.4995\n",
      "Epoch: 122, AUC: 0.4989, AP: 0.4995\n",
      "Epoch: 123, AUC: 0.4989, AP: 0.4995\n",
      "Epoch: 124, AUC: 0.4989, AP: 0.4995\n",
      "Epoch: 125, AUC: 0.4989, AP: 0.4995\n",
      "Epoch: 126, AUC: 0.4989, AP: 0.4995\n",
      "Epoch: 127, AUC: 0.4989, AP: 0.4995\n",
      "Epoch: 128, AUC: 0.4989, AP: 0.4995\n",
      "Epoch: 129, AUC: 0.5011, AP: 0.5011\n",
      "Epoch: 130, AUC: 0.5011, AP: 0.5011\n",
      "Epoch: 131, AUC: 0.5011, AP: 0.5011\n",
      "Epoch: 132, AUC: 0.5011, AP: 0.5011\n",
      "Epoch: 133, AUC: 0.5011, AP: 0.5011\n",
      "Epoch: 134, AUC: 0.5011, AP: 0.5011\n",
      "Epoch: 135, AUC: 0.5011, AP: 0.5011\n",
      "Epoch: 136, AUC: 0.5011, AP: 0.5011\n",
      "Epoch: 137, AUC: 0.5011, AP: 0.5011\n",
      "Epoch: 138, AUC: 0.5011, AP: 0.5011\n",
      "Epoch: 139, AUC: 0.5011, AP: 0.5011\n",
      "Epoch: 140, AUC: 0.5011, AP: 0.5011\n",
      "Epoch: 141, AUC: 0.5011, AP: 0.5011\n",
      "Epoch: 142, AUC: 0.5011, AP: 0.5011\n",
      "Epoch: 143, AUC: 0.5011, AP: 0.5011\n",
      "Epoch: 144, AUC: 0.5011, AP: 0.5011\n",
      "Epoch: 145, AUC: 0.5011, AP: 0.5011\n",
      "Epoch: 146, AUC: 0.5011, AP: 0.5011\n",
      "Epoch: 147, AUC: 0.5011, AP: 0.5011\n",
      "Epoch: 148, AUC: 0.5011, AP: 0.5011\n",
      "Epoch: 149, AUC: 0.5011, AP: 0.5011\n",
      "Epoch: 150, AUC: 0.5011, AP: 0.5011\n",
      "Epoch: 151, AUC: 0.5011, AP: 0.5011\n",
      "Epoch: 152, AUC: 0.5011, AP: 0.5011\n",
      "Epoch: 153, AUC: 0.5011, AP: 0.5011\n",
      "Epoch: 154, AUC: 0.5011, AP: 0.5011\n",
      "Epoch: 155, AUC: 0.5011, AP: 0.5011\n",
      "Epoch: 156, AUC: 0.5011, AP: 0.5011\n",
      "Epoch: 157, AUC: 0.5011, AP: 0.5011\n",
      "Epoch: 158, AUC: 0.5011, AP: 0.5011\n",
      "Epoch: 159, AUC: 0.5011, AP: 0.5011\n",
      "Epoch: 160, AUC: 0.5011, AP: 0.5011\n",
      "Epoch: 161, AUC: 0.5011, AP: 0.5011\n",
      "Epoch: 162, AUC: 0.5011, AP: 0.5011\n",
      "Epoch: 163, AUC: 0.5011, AP: 0.5011\n",
      "Epoch: 164, AUC: 0.5011, AP: 0.5011\n",
      "Epoch: 165, AUC: 0.5011, AP: 0.5011\n",
      "Epoch: 166, AUC: 0.5011, AP: 0.5011\n",
      "Epoch: 167, AUC: 0.5011, AP: 0.5011\n",
      "Epoch: 168, AUC: 0.5011, AP: 0.5011\n",
      "Epoch: 169, AUC: 0.5011, AP: 0.5011\n",
      "Epoch: 170, AUC: 0.5011, AP: 0.5011\n",
      "Epoch: 171, AUC: 0.5011, AP: 0.5011\n",
      "Epoch: 172, AUC: 0.5011, AP: 0.5011\n",
      "Epoch: 173, AUC: 0.5011, AP: 0.5011\n",
      "Epoch: 174, AUC: 0.5011, AP: 0.5011\n",
      "Epoch: 175, AUC: 0.5011, AP: 0.5011\n",
      "Epoch: 176, AUC: 0.5011, AP: 0.5011\n",
      "Epoch: 177, AUC: 0.5011, AP: 0.5011\n",
      "Epoch: 178, AUC: 0.5011, AP: 0.5011\n",
      "Epoch: 179, AUC: 0.5011, AP: 0.5011\n",
      "Epoch: 180, AUC: 0.5011, AP: 0.5011\n",
      "Epoch: 181, AUC: 0.5011, AP: 0.5011\n",
      "Epoch: 182, AUC: 0.5011, AP: 0.5011\n",
      "Epoch: 183, AUC: 0.5011, AP: 0.5011\n",
      "Epoch: 184, AUC: 0.5011, AP: 0.5011\n",
      "Epoch: 185, AUC: 0.5011, AP: 0.5011\n",
      "Epoch: 186, AUC: 0.5011, AP: 0.5011\n",
      "Epoch: 187, AUC: 0.5011, AP: 0.5011\n",
      "Epoch: 188, AUC: 0.5011, AP: 0.5011\n",
      "Epoch: 189, AUC: 0.5011, AP: 0.5011\n",
      "Epoch: 190, AUC: 0.5011, AP: 0.5011\n",
      "Epoch: 191, AUC: 0.5011, AP: 0.5011\n",
      "Epoch: 192, AUC: 0.5011, AP: 0.5011\n",
      "Epoch: 193, AUC: 0.5011, AP: 0.5011\n",
      "Epoch: 194, AUC: 0.5011, AP: 0.5011\n",
      "Epoch: 195, AUC: 0.5011, AP: 0.5011\n",
      "Epoch: 196, AUC: 0.5011, AP: 0.5011\n",
      "Epoch: 197, AUC: 0.5011, AP: 0.5011\n",
      "Epoch: 198, AUC: 0.5011, AP: 0.5011\n",
      "Epoch: 199, AUC: 0.5011, AP: 0.5011\n",
      "Epoch: 200, AUC: 0.5011, AP: 0.5011\n",
      "Epoch: 201, AUC: 0.5011, AP: 0.5011\n",
      "Epoch: 202, AUC: 0.5011, AP: 0.5011\n",
      "Epoch: 203, AUC: 0.5011, AP: 0.5011\n",
      "Epoch: 204, AUC: 0.5011, AP: 0.5011\n",
      "Epoch: 205, AUC: 0.5011, AP: 0.5011\n",
      "Epoch: 206, AUC: 0.5011, AP: 0.5011\n",
      "Epoch: 207, AUC: 0.5011, AP: 0.5011\n",
      "Epoch: 208, AUC: 0.5011, AP: 0.5011\n",
      "Epoch: 209, AUC: 0.5011, AP: 0.5011\n",
      "Epoch: 210, AUC: 0.5011, AP: 0.5011\n",
      "Epoch: 211, AUC: 0.5011, AP: 0.5011\n",
      "Epoch: 212, AUC: 0.5011, AP: 0.5011\n",
      "Epoch: 213, AUC: 0.5011, AP: 0.5011\n",
      "Epoch: 214, AUC: 0.5011, AP: 0.5011\n",
      "Epoch: 215, AUC: 0.5011, AP: 0.5011\n",
      "Epoch: 216, AUC: 0.5011, AP: 0.5011\n",
      "Epoch: 217, AUC: 0.5011, AP: 0.5011\n",
      "Epoch: 218, AUC: 0.5011, AP: 0.5011\n",
      "Epoch: 219, AUC: 0.5011, AP: 0.5011\n",
      "Epoch: 220, AUC: 0.5011, AP: 0.5011\n",
      "Epoch: 221, AUC: 0.5011, AP: 0.5011\n",
      "Epoch: 222, AUC: 0.5011, AP: 0.5011\n",
      "Epoch: 223, AUC: 0.5011, AP: 0.5011\n",
      "Epoch: 224, AUC: 0.5011, AP: 0.5011\n",
      "Epoch: 225, AUC: 0.5011, AP: 0.5011\n",
      "Epoch: 226, AUC: 0.4989, AP: 0.4995\n",
      "Epoch: 227, AUC: 0.4989, AP: 0.4995\n",
      "Epoch: 228, AUC: 0.4989, AP: 0.4995\n",
      "Epoch: 229, AUC: 0.4989, AP: 0.4995\n",
      "Epoch: 230, AUC: 0.4989, AP: 0.4995\n"
     ]
    },
    {
     "name": "stdout",
     "output_type": "stream",
     "text": [
      "Epoch: 231, AUC: 0.4989, AP: 0.4995\n",
      "Epoch: 232, AUC: 0.4989, AP: 0.4995\n",
      "Epoch: 233, AUC: 0.4989, AP: 0.4995\n",
      "Epoch: 234, AUC: 0.4989, AP: 0.4995\n",
      "Epoch: 235, AUC: 0.4989, AP: 0.4995\n",
      "Epoch: 236, AUC: 0.4989, AP: 0.4995\n",
      "Epoch: 237, AUC: 0.4989, AP: 0.4995\n",
      "Epoch: 238, AUC: 0.4989, AP: 0.4995\n",
      "Epoch: 239, AUC: 0.4989, AP: 0.4995\n",
      "Epoch: 240, AUC: 0.4989, AP: 0.4995\n",
      "Epoch: 241, AUC: 0.5011, AP: 0.5011\n",
      "Epoch: 242, AUC: 0.5011, AP: 0.5011\n",
      "Epoch: 243, AUC: 0.5011, AP: 0.5011\n",
      "Epoch: 244, AUC: 0.5011, AP: 0.5011\n",
      "Epoch: 245, AUC: 0.5011, AP: 0.5011\n",
      "Epoch: 246, AUC: 0.5011, AP: 0.5011\n",
      "Epoch: 247, AUC: 0.5011, AP: 0.5011\n",
      "Epoch: 248, AUC: 0.5011, AP: 0.5011\n",
      "Epoch: 249, AUC: 0.5011, AP: 0.5011\n",
      "Epoch: 250, AUC: 0.5011, AP: 0.5011\n",
      "Epoch: 251, AUC: 0.5011, AP: 0.5011\n",
      "Epoch: 252, AUC: 0.5011, AP: 0.5011\n",
      "Epoch: 253, AUC: 0.5011, AP: 0.5011\n",
      "Epoch: 254, AUC: 0.5011, AP: 0.5011\n",
      "Epoch: 255, AUC: 0.5011, AP: 0.5011\n",
      "Epoch: 256, AUC: 0.5011, AP: 0.5011\n",
      "Epoch: 257, AUC: 0.5011, AP: 0.5011\n",
      "Epoch: 258, AUC: 0.5011, AP: 0.5011\n",
      "Epoch: 259, AUC: 0.5011, AP: 0.5011\n",
      "Epoch: 260, AUC: 0.5011, AP: 0.5011\n",
      "Epoch: 261, AUC: 0.5011, AP: 0.5011\n",
      "Epoch: 262, AUC: 0.5011, AP: 0.5011\n",
      "Epoch: 263, AUC: 0.5011, AP: 0.5011\n",
      "Epoch: 264, AUC: 0.5011, AP: 0.5011\n",
      "Epoch: 265, AUC: 0.5011, AP: 0.5011\n",
      "Epoch: 266, AUC: 0.5011, AP: 0.5011\n",
      "Epoch: 267, AUC: 0.5011, AP: 0.5011\n",
      "Epoch: 268, AUC: 0.5011, AP: 0.5011\n",
      "Epoch: 269, AUC: 0.5011, AP: 0.5011\n",
      "Epoch: 270, AUC: 0.5011, AP: 0.5011\n",
      "Epoch: 271, AUC: 0.5011, AP: 0.5011\n",
      "Epoch: 272, AUC: 0.5011, AP: 0.5011\n",
      "Epoch: 273, AUC: 0.5011, AP: 0.5011\n",
      "Epoch: 274, AUC: 0.5011, AP: 0.5011\n",
      "Epoch: 275, AUC: 0.5011, AP: 0.5011\n",
      "Epoch: 276, AUC: 0.5011, AP: 0.5011\n",
      "Epoch: 277, AUC: 0.4989, AP: 0.4995\n",
      "Epoch: 278, AUC: 0.4989, AP: 0.4995\n",
      "Epoch: 279, AUC: 0.4989, AP: 0.4995\n",
      "Epoch: 280, AUC: 0.4989, AP: 0.4995\n",
      "Epoch: 281, AUC: 0.4989, AP: 0.4995\n",
      "Epoch: 282, AUC: 0.4989, AP: 0.4995\n",
      "Epoch: 283, AUC: 0.4989, AP: 0.4995\n",
      "Epoch: 284, AUC: 0.5011, AP: 0.5011\n",
      "Epoch: 285, AUC: 0.5011, AP: 0.5011\n",
      "Epoch: 286, AUC: 0.5011, AP: 0.5011\n",
      "Epoch: 287, AUC: 0.5011, AP: 0.5011\n",
      "Epoch: 288, AUC: 0.5011, AP: 0.5011\n",
      "Epoch: 289, AUC: 0.5011, AP: 0.5011\n",
      "Epoch: 290, AUC: 0.5011, AP: 0.5011\n",
      "Epoch: 291, AUC: 0.5011, AP: 0.5011\n",
      "Epoch: 292, AUC: 0.5011, AP: 0.5011\n",
      "Epoch: 293, AUC: 0.5011, AP: 0.5011\n",
      "Epoch: 294, AUC: 0.5011, AP: 0.5011\n",
      "Epoch: 295, AUC: 0.5011, AP: 0.5011\n",
      "Epoch: 296, AUC: 0.5011, AP: 0.5011\n",
      "Epoch: 297, AUC: 0.5011, AP: 0.5011\n",
      "Epoch: 298, AUC: 0.5011, AP: 0.5011\n",
      "Epoch: 299, AUC: 0.5011, AP: 0.5011\n",
      "Epoch: 300, AUC: 0.5011, AP: 0.5011\n"
     ]
    }
   ],
   "source": [
    "writer = SummaryWriter('runs/VGAE_experiment_'+'2d_100_epochs')\n",
    "\n",
    "for epoch in range(1, epochs + 1):\n",
    "    loss = train()\n",
    "    auc, ap = test(data.test_pos_edge_index, data.test_neg_edge_index)\n",
    "    print('Epoch: {:03d}, AUC: {:.4f}, AP: {:.4f}'.format(epoch, auc, ap))\n",
    "    \n",
    "    \n",
    "    writer.add_scalar('auc train',auc,epoch) # new line\n",
    "    writer.add_scalar('ap train',ap,epoch)   # new line"
   ]
  },
  {
   "cell_type": "code",
   "execution_count": null,
   "metadata": {},
   "outputs": [],
   "source": []
  }
 ],
 "metadata": {
  "kernelspec": {
   "display_name": "Python 3",
   "language": "python",
   "name": "python3"
  },
  "language_info": {
   "codemirror_mode": {
    "name": "ipython",
    "version": 3
   },
   "file_extension": ".py",
   "mimetype": "text/x-python",
   "name": "python",
   "nbconvert_exporter": "python",
   "pygments_lexer": "ipython3",
   "version": "3.10.4"
  }
 },
 "nbformat": 4,
 "nbformat_minor": 4
}
