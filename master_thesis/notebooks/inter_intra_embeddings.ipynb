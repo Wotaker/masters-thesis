{
 "cells": [
  {
   "cell_type": "code",
   "execution_count": 1,
   "metadata": {},
   "outputs": [],
   "source": [
    "import os\n",
    "import numpy as np\n",
    "import matplotlib.pyplot as plt\n",
    "import networkx as nx\n",
    "import seaborn as sns\n",
    "\n",
    "from karateclub.graph_embedding import Graph2Vec\n",
    "from sklearn.ensemble import RandomForestClassifier\n",
    "from sklearn.svm import SVC\n",
    "from sklearn.linear_model import RidgeClassifier\n",
    "from sklearn.neural_network import MLPClassifier\n",
    "from sklearn.model_selection import GridSearchCV, LeaveOneOut, train_test_split, learning_curve\n",
    "from sklearn.metrics import *\n",
    "\n",
    "from master_thesis.utils.plotting import *\n",
    "from master_thesis.utils import *"
   ]
  },
  {
   "cell_type": "code",
   "execution_count": 2,
   "metadata": {},
   "outputs": [],
   "source": [
    "SEED = 39\n",
    "N_ROIS = 100\n",
    "CAUSAL_COEFF_STRENGTH = 1.7\n",
    "EMBEDDING_HIDDEN_DIM = 16"
   ]
  },
  {
   "cell_type": "code",
   "execution_count": 10,
   "metadata": {},
   "outputs": [
    {
     "name": "stdout",
     "output_type": "stream",
     "text": [
      "No of control samples: 69\n",
      "No of patological samples: 382\n"
     ]
    }
   ],
   "source": [
    "networks_dir = \"../../Datasets/NeuroFlicks/networks/\"\n",
    "# List of all networks\n",
    "np_files = os.listdir(networks_dir)\n",
    "\n",
    "# Get labels from file names\n",
    "labels = np.array([np_file[4:7] == 'PAT' for np_file in np_files])\n",
    "\n",
    "# Load all networks, and calculate mean score and std\n",
    "np_matrices = np.array([np.load(os.path.join(networks_dir, np_file))[1] for np_file in np_files])\n",
    "score_mean, score_std = np.array(np_matrices).mean(), np.array(np_matrices).std()\n",
    "\n",
    "# Binarize networks\n",
    "np_networks = np_matrices > score_mean + CAUSAL_COEFF_STRENGTH * score_std\n",
    "\n",
    "# Split networks into iter- and intra-hemispheric\n",
    "n_rois_hemisphere = N_ROIS // 2\n",
    "np_networks_left2left = np_networks[:, :n_rois_hemisphere, :n_rois_hemisphere]\n",
    "np_networks_left2right = np_networks[:, :n_rois_hemisphere, n_rois_hemisphere:]\n",
    "np_networks_right2left = np_networks[:, n_rois_hemisphere:, :n_rois_hemisphere]\n",
    "np_networks_right2right = np_networks[:, n_rois_hemisphere:, n_rois_hemisphere:]\n",
    "\n",
    "# Convert to networkx graphs\n",
    "dataset_full = [nx.from_numpy_array(np_network, create_using=nx.DiGraph) for np_network in np_networks]\n",
    "dataset_left2left = [nx.from_numpy_array(np_network, create_using=nx.DiGraph) for np_network in np_networks_left2left]\n",
    "dataset_left2right = [nx.from_numpy_array(np_network, create_using=nx.DiGraph) for np_network in np_networks_left2right]\n",
    "dataset_right2left = [nx.from_numpy_array(np_network, create_using=nx.DiGraph) for np_network in np_networks_right2left]\n",
    "dataset_right2right = [nx.from_numpy_array(np_network, create_using=nx.DiGraph) for np_network in np_networks_right2right]\n",
    "\n",
    "# Balance of control and patological samples\n",
    "n_control = len(labels) - labels.sum()\n",
    "n_patological = labels.sum()\n",
    "\n",
    "# Print dataset info\n",
    "print(f\"No of control samples: {n_control}\")\n",
    "print(f\"No of patological samples: {n_patological}\")"
   ]
  },
  {
   "cell_type": "code",
   "execution_count": 47,
   "metadata": {},
   "outputs": [],
   "source": [
    "# Get indeces of true labels\n",
    "idx_pat = np.where(labels == True)[0]\n",
    "idx_con = np.where(labels == False)[0]"
   ]
  },
  {
   "cell_type": "code",
   "execution_count": 91,
   "metadata": {},
   "outputs": [],
   "source": [
    "model_left2left = Graph2Vec(dimensions=(EMBEDDING_HIDDEN_DIM // 4), wl_iterations=2, epochs=200, seed=SEED, workers=1)\n",
    "model_left2right = Graph2Vec(dimensions=(EMBEDDING_HIDDEN_DIM // 4), wl_iterations=2, epochs=200, seed=SEED, workers=1)\n",
    "model_right2left = Graph2Vec(dimensions=(EMBEDDING_HIDDEN_DIM // 4), wl_iterations=2, epochs=200, seed=SEED, workers=1)\n",
    "model_right2right = Graph2Vec(dimensions=(EMBEDDING_HIDDEN_DIM // 4), wl_iterations=2, epochs=200, seed=SEED, workers=1)\n",
    "\n",
    "model_left2left.fit(dataset_left2left)\n",
    "model_left2right.fit(dataset_left2right)\n",
    "model_right2left.fit(dataset_right2left)\n",
    "model_right2right.fit(dataset_right2right)\n",
    "\n",
    "embedding_left2left = model_left2left.get_embedding()\n",
    "embedding_left2right = model_left2right.get_embedding()\n",
    "embedding_right2left = model_right2left.get_embedding()\n",
    "embedding_right2right = model_right2right.get_embedding()"
   ]
  },
  {
   "cell_type": "code",
   "execution_count": 92,
   "metadata": {},
   "outputs": [
    {
     "data": {
      "text/plain": [
       "(451, 16)"
      ]
     },
     "execution_count": 92,
     "metadata": {},
     "output_type": "execute_result"
    }
   ],
   "source": [
    "embeddings = np.concatenate((embedding_left2left, embedding_left2right, embedding_right2left, embedding_right2right), axis=1)\n",
    "embeddings.shape"
   ]
  },
  {
   "cell_type": "code",
   "execution_count": 93,
   "metadata": {},
   "outputs": [
    {
     "name": "stdout",
     "output_type": "stream",
     "text": [
      "X_train shape: (724, 16), y_train shape: (724,)\n",
      "X_test shape: (40, 16), y_test shape: (40,)\n",
      "Ratio of positive samples in train: 0.5\n",
      "Ratio of positive samples in test: 0.5\n"
     ]
    }
   ],
   "source": [
    "X_train, y_train, X_test, y_test = balance_split_dataset(embeddings, labels, half_test_size=20, verbose=True)"
   ]
  },
  {
   "cell_type": "code",
   "execution_count": 94,
   "metadata": {},
   "outputs": [
    {
     "name": "stdout",
     "output_type": "stream",
     "text": [
      "Best params: {'alpha': 0.5623413251903491}\n",
      "Best score: 0.6472928996619591\n",
      "Train accuracy: 0.60,\t\tTest accuracy: 0.60\n",
      "Train recall: 0.63, Test recall: 0.55\n",
      "Train precision: 0.60, Test precision: 0.48\n",
      "Train f1: 0.61, Test f1: 0.51\n",
      "Train AUC: 0.60, Test AUC: 0.48\n"
     ]
    },
    {
     "data": {
      "image/png": "[encoded data removed]",
      "text/plain": [
       "<Figure size 640x480 with 2 Axes>"
      ]
     },
     "metadata": {},
     "output_type": "display_data"
    }
   ],
   "source": [
    "params = {'alpha': np.logspace(-1, 3, 17)}\n",
    "\n",
    "clf = GridSearchCV(RidgeClassifier(), params, cv=5, scoring='f1', n_jobs=-1)\n",
    "clf.fit(X_train, y_train)\n",
    "\n",
    "print(f\"Best params: {clf.best_params_}\")\n",
    "print(f\"Best score: {clf.best_score_}\")\n",
    "\n",
    "# Fit Ridge classifier\n",
    "rc = RidgeClassifier(alpha=100.)\n",
    "rc.fit(X_train, y_train)\n",
    "y_train_hat, y_test_hat = rc.predict(X_train), rc.predict(X_test)\n",
    "\n",
    "# Evaluate\n",
    "evaluate(y_train, y_train_hat, y_test, y_test_hat)"
   ]
  },
  {
   "cell_type": "code",
   "execution_count": 102,
   "metadata": {},
   "outputs": [
    {
     "name": "stdout",
     "output_type": "stream",
     "text": [
      "Train accuracy: 0.67,\t\tTest accuracy: 0.67\n",
      "Train recall: 0.70, Test recall: 0.50\n",
      "Train precision: 0.67, Test precision: 0.43\n",
      "Train f1: 0.68, Test f1: 0.47\n",
      "Train AUC: 0.67, Test AUC: 0.42\n"
     ]
    },
    {
     "name": "stderr",
     "output_type": "stream",
     "text": [
      "/Users/wciezobka/venvs/sano/lib/python3.10/site-packages/sklearn/neural_network/_multilayer_perceptron.py:691: ConvergenceWarning: Stochastic Optimizer: Maximum iterations (10) reached and the optimization hasn't converged yet.\n",
      "  warnings.warn(\n"
     ]
    },
    {
     "data": {
      "image/png": "[encoded data removed]",
      "text/plain": [
       "<Figure size 640x480 with 2 Axes>"
      ]
     },
     "metadata": {},
     "output_type": "display_data"
    }
   ],
   "source": [
    "# Fit Ridge classifier\n",
    "mlp = MLPClassifier(hidden_layer_sizes=(64), max_iter=10)\n",
    "mlp.fit(X_train, y_train)\n",
    "y_train_hat, y_test_hat = mlp.predict(X_train), mlp.predict(X_test)\n",
    "\n",
    "# Evaluate\n",
    "evaluate(y_train, y_train_hat, y_test, y_test_hat)"
   ]
  },
  {
   "cell_type": "markdown",
   "metadata": {},
   "source": [
    "# Conclusions\n",
    "The method of splitting the networks into inter and intra-hemispheric does not improve the results. Actually the results are worse.\n",
    "If I set the emmbeding dimensions to sum up to the previous value, we lose to much information and the results are worse. If the embedding dimensions are kept per left2left etc. the resulting space is to big, and the results are not good either.  \n",
    "  \n",
    "### Possible solutions\n",
    "- Try to use mlp per left2left etc. and then aggregate the results in some clever way. This solution needs the information of the lesion side\n",
    "- ..."
   ]
  },
  {
   "cell_type": "code",
   "execution_count": null,
   "metadata": {},
   "outputs": [],
   "source": []
  }
 ],
 "metadata": {
  "kernelspec": {
   "display_name": "sano",
   "language": "python",
   "name": "python3"
  },
  "language_info": {
   "codemirror_mode": {
    "name": "ipython",
    "version": 3
   },
   "file_extension": ".py",
   "mimetype": "text/x-python",
   "name": "python",
   "nbconvert_exporter": "python",
   "pygments_lexer": "ipython3",
   "version": "3.10.4"
  }
 },
 "nbformat": 4,
 "nbformat_minor": 2
}
