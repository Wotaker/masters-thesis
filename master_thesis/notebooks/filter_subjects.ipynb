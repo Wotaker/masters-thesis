{
 "cells": [
  {
   "cell_type": "code",
   "execution_count": 2,
   "metadata": {},
   "outputs": [],
   "source": [
    "import os\n",
    "import pandas as pd\n",
    "import numpy as np\n",
    "import matplotlib.pyplot as plt\n",
    "import seaborn as sns"
   ]
  },
  {
   "cell_type": "markdown",
   "metadata": {},
   "source": [
    "# Load the Dataset"
   ]
  },
  {
   "cell_type": "code",
   "execution_count": 11,
   "metadata": {},
   "outputs": [],
   "source": [
    "df_ischemic = pd.read_csv(\"../Datasets/subjects_ischemic.csv\")"
   ]
  },
  {
   "cell_type": "code",
   "execution_count": 12,
   "metadata": {},
   "outputs": [
    {
     "name": "stdout",
     "output_type": "stream",
     "text": [
      "Number of with ischemic subjects:  106\n",
      "The most frequent lesion site is: cortical (1)\n"
     ]
    }
   ],
   "source": [
    "# Filter subjects with stroke (PAT)\n",
    "# - subj_type=0 means stroke\n",
    "no_ischemic_subjects = df_ischemic[df_ischemic[\"subj_type\"] == 0][\"participant_id\"].count()\n",
    "print(\"Number of with ischemic subjects: \", no_ischemic_subjects)\n",
    "print(\"The most frequent lesion site is: cortical (1)\")"
   ]
  },
  {
   "cell_type": "code",
   "execution_count": 47,
   "metadata": {},
   "outputs": [
    {
     "data": {
      "text/plain": [
       "<Axes: ylabel='Count'>"
      ]
     },
     "execution_count": 47,
     "metadata": {},
     "output_type": "execute_result"
    },
    {
     "data": {
      "image/png": "[encoded data removed]",
      "text/plain": [
       "<Figure size 640x480 with 1 Axes>"
      ]
     },
     "metadata": {},
     "output_type": "display_data"
    }
   ],
   "source": [
    "# Present the distribution of stroke sites\n",
    "df_stroke = df_ischemic[df_ischemic[\"subj_type\"] == 0]\n",
    "sites = df_stroke[df_stroke[\"lesion_site\"].notna()][\"lesion_site\"].values\n",
    "sns.histplot(sites.astype(int))"
   ]
  },
  {
   "cell_type": "markdown",
   "metadata": {},
   "source": [
    "## Filter the specific conditions (hemisphere, site, etc.)"
   ]
  },
  {
   "cell_type": "code",
   "execution_count": 48,
   "metadata": {},
   "outputs": [],
   "source": [
    "# df_conditioned = df_ischemic[(df_ischemic[\"subj_type\"] == 0) & ((df_ischemic[\"lesion_site\"] == 1) | (df_ischemic[\"lesion_site\"] == 2))]\n",
    "df_conditioned = df_ischemic[(df_ischemic[\"subj_type\"] == 0) & (df_ischemic[\"lesion_side\"] == 0)]"
   ]
  },
  {
   "cell_type": "code",
   "execution_count": 49,
   "metadata": {},
   "outputs": [
    {
     "data": {
      "text/plain": [
       "(['sub-PAT027.npy',\n",
       "  'sub-PAT029.npy',\n",
       "  'sub-PAT033.npy',\n",
       "  'sub-PAT035.npy',\n",
       "  'sub-PAT039.npy',\n",
       "  'sub-PAT041.npy',\n",
       "  'sub-PAT047.npy',\n",
       "  'sub-PAT049.npy',\n",
       "  'sub-PAT052.npy',\n",
       "  'sub-PAT055.npy',\n",
       "  'sub-PAT057.npy',\n",
       "  'sub-PAT060.npy',\n",
       "  'sub-PAT061.npy',\n",
       "  'sub-PAT062.npy',\n",
       "  'sub-PAT063.npy',\n",
       "  'sub-PAT064.npy',\n",
       "  'sub-PAT067.npy',\n",
       "  'sub-PAT070.npy',\n",
       "  'sub-PAT075.npy',\n",
       "  'sub-PAT077.npy',\n",
       "  'sub-PAT078.npy',\n",
       "  'sub-PAT079.npy',\n",
       "  'sub-PAT083.npy',\n",
       "  'sub-PAT085.npy',\n",
       "  'sub-PAT086.npy',\n",
       "  'sub-PAT089.npy',\n",
       "  'sub-PAT092.npy',\n",
       "  'sub-PAT095.npy',\n",
       "  'sub-PAT097.npy',\n",
       "  'sub-PAT099.npy',\n",
       "  'sub-PAT100.npy',\n",
       "  'sub-PAT101.npy',\n",
       "  'sub-PAT102.npy',\n",
       "  'sub-PAT104.npy',\n",
       "  'sub-PAT106.npy',\n",
       "  'sub-PAT112.npy',\n",
       "  'sub-PAT119.npy',\n",
       "  'sub-PAT120.npy',\n",
       "  'sub-PAT122.npy',\n",
       "  'sub-PAT124.npy',\n",
       "  'sub-PAT132.npy',\n",
       "  'sub-PAT136.npy',\n",
       "  'sub-PAT141.npy',\n",
       "  'sub-PAT142.npy',\n",
       "  'sub-PAT144.npy',\n",
       "  'sub-PAT149.npy',\n",
       "  'sub-PAT150.npy',\n",
       "  'sub-PAT153.npy',\n",
       "  'sub-PAT163.npy',\n",
       "  'sub-PAT168.npy',\n",
       "  'sub-PAT169.npy',\n",
       "  'sub-PAT180.npy',\n",
       "  'sub-PAT186.npy',\n",
       "  'sub-PAT191.npy',\n",
       "  'sub-PAT193.npy',\n",
       "  'sub-PAT196.npy'],\n",
       " 56)"
      ]
     },
     "execution_count": 49,
     "metadata": {},
     "output_type": "execute_result"
    }
   ],
   "source": [
    "# Collect the participants ids and convert them to .npy format\n",
    "participants = list(df_conditioned[\"participant_id\"].values)\n",
    "participants = list(map(lambda x: x + \".npy\", participants))\n",
    "participants, len(participants)"
   ]
  },
  {
   "cell_type": "markdown",
   "metadata": {},
   "source": [
    "## Save new ischemic cortical dataset partition"
   ]
  },
  {
   "cell_type": "code",
   "execution_count": null,
   "metadata": {},
   "outputs": [],
   "source": [
    "source_dir = \"../Datasets/SynapseSnap/ec-networks_23-10-00_0000/\"\n",
    "destination_dir = \"../Datasets/SynapseSnap/directory-title/\"\n",
    "\n",
    "for file in os.listdir(source_dir):\n",
    "    if file.startswith(\"sub-CON\"):\n",
    "        os.system(\"cp \" + source_dir + file + \" \" + destination_dir + file)\n",
    "    if file in participants:\n",
    "        os.system(\"cp \" + source_dir + file + \" \" + destination_dir + file)"
   ]
  },
  {
   "cell_type": "markdown",
   "metadata": {},
   "source": [
    "### Validate the saved partitions"
   ]
  },
  {
   "cell_type": "code",
   "execution_count": 44,
   "metadata": {},
   "outputs": [
    {
     "data": {
      "text/plain": [
       "130"
      ]
     },
     "execution_count": 44,
     "metadata": {},
     "output_type": "execute_result"
    }
   ],
   "source": [
    "source_files = os.listdir(source_dir)\n",
    "source_files = list(filter(lambda x: x.startswith(\"sub-PAT\"), source_files))\n",
    "len(source_files)"
   ]
  },
  {
   "cell_type": "code",
   "execution_count": 45,
   "metadata": {},
   "outputs": [
    {
     "data": {
      "text/plain": [
       "49"
      ]
     },
     "execution_count": 45,
     "metadata": {},
     "output_type": "execute_result"
    }
   ],
   "source": [
    "dest_files = os.listdir(destination_dir)\n",
    "dest_files = list(filter(lambda x: x.startswith(\"sub-PAT\"), dest_files))\n",
    "len(dest_files)"
   ]
  },
  {
   "cell_type": "code",
   "execution_count": 46,
   "metadata": {},
   "outputs": [
    {
     "data": {
      "text/plain": [
       "{'sub-PAT137.npy'}"
      ]
     },
     "execution_count": 46,
     "metadata": {},
     "output_type": "execute_result"
    }
   ],
   "source": [
    "# Check if any subjects are missing\n",
    "# - if so, the RCC method lost some networks\n",
    "set(participants) - set(source_files)"
   ]
  },
  {
   "cell_type": "code",
   "execution_count": null,
   "metadata": {},
   "outputs": [],
   "source": []
  }
 ],
 "metadata": {
  "kernelspec": {
   "display_name": "sano",
   "language": "python",
   "name": "python3"
  },
  "language_info": {
   "codemirror_mode": {
    "name": "ipython",
    "version": 3
   },
   "file_extension": ".py",
   "mimetype": "text/x-python",
   "name": "python",
   "nbconvert_exporter": "python",
   "pygments_lexer": "ipython3",
   "version": "3.10.4"
  }
 },
 "nbformat": 4,
 "nbformat_minor": 2
}
