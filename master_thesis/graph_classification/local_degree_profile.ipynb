{
 "cells": [
  {
   "cell_type": "code",
   "execution_count": 1,
   "metadata": {},
   "outputs": [],
   "source": [
    "from typing import Optional, Tuple, Union\n",
    "\n",
    "import os\n",
    "import numpy as np\n",
    "import seaborn as sns\n",
    "import matplotlib.pyplot as plt\n",
    "\n",
    "from torch_geometric.data import Data\n",
    "from sklearn.ensemble import RandomForestClassifier\n",
    "from sklearn.svm import SVC, LinearSVC\n",
    "from sklearn.neural_network import MLPClassifier\n",
    "from sklearn.metrics import accuracy_score, precision_score, recall_score, f1_score, roc_auc_score\n",
    "\n",
    "from master_thesis.utils.loading import ConnectivityDataset, get_balanced_train_test_masks\n",
    "from master_thesis.utils.plotting import plot_confusion_matrix"
   ]
  },
  {
   "cell_type": "markdown",
   "metadata": {},
   "source": [
    "# Constants and hyperparameters"
   ]
  },
  {
   "cell_type": "code",
   "execution_count": 2,
   "metadata": {},
   "outputs": [],
   "source": [
    "# Constants\n",
    "SEED = 42\n",
    "EC_DATASET_PATH = \"/Users/wciezobka/sano/projects/masters-thesis/Datasets/NeuroFlicks/networks\"\n",
    "CAUSAL_COEFF_THRESHOLD = 0.5\n",
    "\n",
    "# Hyperparameters\n",
    "HALF_TEST_SIZE = 16\n",
    "N_BINS = 10\n",
    "# EPOCHS = 100\n",
    "# BATCH_SIZE = 32\n",
    "# LEARNING_RATE = 2e-3\n",
    "# WEIGHT_DECAY = 5e-4\n",
    "# NUM_LAYERS = 2\n",
    "# HIDDEN_SIZE = 16"
   ]
  },
  {
   "cell_type": "markdown",
   "metadata": {},
   "source": [
    "# Data handling"
   ]
  },
  {
   "cell_type": "markdown",
   "metadata": {},
   "source": [
    "## Load effective connectivity data"
   ]
  },
  {
   "cell_type": "code",
   "execution_count": 3,
   "metadata": {},
   "outputs": [],
   "source": [
    "networks = np.array(os.listdir(EC_DATASET_PATH))\n",
    "labels = np.array([np_file[4:7] == 'PAT' for np_file in networks])\n",
    "\n",
    "train_mask, test_mask = get_balanced_train_test_masks(labels, half_test_size=HALF_TEST_SIZE, seed=SEED)"
   ]
  },
  {
   "cell_type": "markdown",
   "metadata": {},
   "source": [
    "## Aggregate LDPs"
   ]
  },
  {
   "cell_type": "code",
   "execution_count": 11,
   "metadata": {},
   "outputs": [],
   "source": [
    "def get_ldps(dataset: ConnectivityDataset) -> Tuple[np.ndarray, np.ndarray]:\n",
    "\n",
    "    def aggregate_ldp(data: Data) -> np.ndarray:\n",
    "        ldp = data.x[:, 1:]\n",
    "        x = [np.histogram(ldp[:, i], bins=N_BINS, density=True)[0] for i in range(5)]\n",
    "        return np.concatenate(x, axis=0)\n",
    "    \n",
    "    xs = []\n",
    "    ys = []\n",
    "    for data in dataset:\n",
    "        x = aggregate_ldp(data)\n",
    "        xs.append(x)\n",
    "        ys.append(data.y.item())\n",
    "    xs = np.stack(xs, axis=0)\n",
    "    ys = np.array(ys)\n",
    "\n",
    "    return xs, ys"
   ]
  },
  {
   "cell_type": "markdown",
   "metadata": {},
   "source": [
    "## Train/test split"
   ]
  },
  {
   "cell_type": "code",
   "execution_count": 12,
   "metadata": {},
   "outputs": [],
   "source": [
    "train_dataset = ConnectivityDataset(EC_DATASET_PATH, networks_mask=train_mask, causal_coeff_threshold=0.5, ldp=True)\n",
    "test_dataset = ConnectivityDataset(EC_DATASET_PATH, networks_mask=test_mask, causal_coeff_threshold=0.5, ldp=True)\n",
    "\n",
    "xs_train, ys_train = get_ldps(train_dataset)\n",
    "xs_test, ys_test = get_ldps(test_dataset)"
   ]
  },
  {
   "cell_type": "markdown",
   "metadata": {},
   "source": [
    "## Model training"
   ]
  },
  {
   "cell_type": "code",
   "execution_count": 51,
   "metadata": {},
   "outputs": [],
   "source": [
    "# model = RandomForestClassifier(\n",
    "#     n_estimators=1,\n",
    "#     criterion=\"gini\",\n",
    "#     max_features=\"sqrt\",\n",
    "#     n_jobs=-1,\n",
    "#     random_state=0,\n",
    "# )\n",
    "\n",
    "# model = LinearSVC(\n",
    "#     penalty=\"l2\",\n",
    "#     loss=\"hinge\",\n",
    "#     max_iter=10000,\n",
    "#     random_state=0,\n",
    "# )\n",
    "\n",
    "# model = SVC(\n",
    "#     kernel=\"rbf\",\n",
    "#     cache_size=1024,\n",
    "#     random_state=0,\n",
    "#     C=1.\n",
    "# )\n",
    "\n",
    "model = MLPClassifier(\n",
    "    hidden_layer_sizes=(4, 4),\n",
    "    activation=\"relu\",\n",
    "    solver=\"adam\",\n",
    "    alpha=0.0,\n",
    "    batch_size=\"auto\",\n",
    "    learning_rate=\"constant\",\n",
    "    learning_rate_init=0.001,\n",
    "    max_iter=1000,\n",
    "    random_state=0,\n",
    ")"
   ]
  },
  {
   "cell_type": "code",
   "execution_count": 52,
   "metadata": {},
   "outputs": [
    {
     "name": "stderr",
     "output_type": "stream",
     "text": [
      "/Users/wciezobka/venvs/sano/lib/python3.10/site-packages/sklearn/neural_network/_multilayer_perceptron.py:691: ConvergenceWarning: Stochastic Optimizer: Maximum iterations (1000) reached and the optimization hasn't converged yet.\n",
      "  warnings.warn(\n"
     ]
    },
    {
     "data": {
      "text/html": [
       "<style>#sk-container-id-8 {color: black;}#sk-container-id-8 pre{padding: 0;}#sk-container-id-8 div.sk-toggleable {background-color: white;}#sk-container-id-8 label.sk-toggleable__label {cursor: pointer;display: block;width: 100%;margin-bottom: 0;padding: 0.3em;box-sizing: border-box;text-align: center;}#sk-container-id-8 label.sk-toggleable__label-arrow:before {content: \"▸\";float: left;margin-right: 0.25em;color: #696969;}#sk-container-id-8 label.sk-toggleable__label-arrow:hover:before {color: black;}#sk-container-id-8 div.sk-estimator:hover label.sk-toggleable__label-arrow:before {color: black;}#sk-container-id-8 div.sk-toggleable__content {max-height: 0;max-width: 0;overflow: hidden;text-align: left;background-color: #f0f8ff;}#sk-container-id-8 div.sk-toggleable__content pre {margin: 0.2em;color: black;border-radius: 0.25em;background-color: #f0f8ff;}#sk-container-id-8 input.sk-toggleable__control:checked~div.sk-toggleable__content {max-height: 200px;max-width: 100%;overflow: auto;}#sk-container-id-8 input.sk-toggleable__control:checked~label.sk-toggleable__label-arrow:before {content: \"▾\";}#sk-container-id-8 div.sk-estimator input.sk-toggleable__control:checked~label.sk-toggleable__label {background-color: #d4ebff;}#sk-container-id-8 div.sk-label input.sk-toggleable__control:checked~label.sk-toggleable__label {background-color: #d4ebff;}#sk-container-id-8 input.sk-hidden--visually {border: 0;clip: rect(1px 1px 1px 1px);clip: rect(1px, 1px, 1px, 1px);height: 1px;margin: -1px;overflow: hidden;padding: 0;position: absolute;width: 1px;}#sk-container-id-8 div.sk-estimator {font-family: monospace;background-color: #f0f8ff;border: 1px dotted black;border-radius: 0.25em;box-sizing: border-box;margin-bottom: 0.5em;}#sk-container-id-8 div.sk-estimator:hover {background-color: #d4ebff;}#sk-container-id-8 div.sk-parallel-item::after {content: \"\";width: 100%;border-bottom: 1px solid gray;flex-grow: 1;}#sk-container-id-8 div.sk-label:hover label.sk-toggleable__label {background-color: #d4ebff;}#sk-container-id-8 div.sk-serial::before {content: \"\";position: absolute;border-left: 1px solid gray;box-sizing: border-box;top: 0;bottom: 0;left: 50%;z-index: 0;}#sk-container-id-8 div.sk-serial {display: flex;flex-direction: column;align-items: center;background-color: white;padding-right: 0.2em;padding-left: 0.2em;position: relative;}#sk-container-id-8 div.sk-item {position: relative;z-index: 1;}#sk-container-id-8 div.sk-parallel {display: flex;align-items: stretch;justify-content: center;background-color: white;position: relative;}#sk-container-id-8 div.sk-item::before, #sk-container-id-8 div.sk-parallel-item::before {content: \"\";position: absolute;border-left: 1px solid gray;box-sizing: border-box;top: 0;bottom: 0;left: 50%;z-index: -1;}#sk-container-id-8 div.sk-parallel-item {display: flex;flex-direction: column;z-index: 1;position: relative;background-color: white;}#sk-container-id-8 div.sk-parallel-item:first-child::after {align-self: flex-end;width: 50%;}#sk-container-id-8 div.sk-parallel-item:last-child::after {align-self: flex-start;width: 50%;}#sk-container-id-8 div.sk-parallel-item:only-child::after {width: 0;}#sk-container-id-8 div.sk-dashed-wrapped {border: 1px dashed gray;margin: 0 0.4em 0.5em 0.4em;box-sizing: border-box;padding-bottom: 0.4em;background-color: white;}#sk-container-id-8 div.sk-label label {font-family: monospace;font-weight: bold;display: inline-block;line-height: 1.2em;}#sk-container-id-8 div.sk-label-container {text-align: center;}#sk-container-id-8 div.sk-container {/* jupyter's `normalize.less` sets `[hidden] { display: none; }` but bootstrap.min.css set `[hidden] { display: none !important; }` so we also need the `!important` here to be able to override the default hidden behavior on the sphinx rendered scikit-learn.org. See: https://github.com/scikit-learn/scikit-learn/issues/21755 */display: inline-block !important;position: relative;}#sk-container-id-8 div.sk-text-repr-fallback {display: none;}</style><div id=\"sk-container-id-8\" class=\"sk-top-container\"><div class=\"sk-text-repr-fallback\"><pre>MLPClassifier(alpha=0.0, hidden_layer_sizes=(4, 4), max_iter=1000,\n",
       "              random_state=0)</pre><b>In a Jupyter environment, please rerun this cell to show the HTML representation or trust the notebook. <br />On GitHub, the HTML representation is unable to render, please try loading this page with nbviewer.org.</b></div><div class=\"sk-container\" hidden><div class=\"sk-item\"><div class=\"sk-estimator sk-toggleable\"><input class=\"sk-toggleable__control sk-hidden--visually\" id=\"sk-estimator-id-8\" type=\"checkbox\" checked><label for=\"sk-estimator-id-8\" class=\"sk-toggleable__label sk-toggleable__label-arrow\">MLPClassifier</label><div class=\"sk-toggleable__content\"><pre>MLPClassifier(alpha=0.0, hidden_layer_sizes=(4, 4), max_iter=1000,\n",
       "              random_state=0)</pre></div></div></div></div></div>"
      ],
      "text/plain": [
       "MLPClassifier(alpha=0.0, hidden_layer_sizes=(4, 4), max_iter=1000,\n",
       "              random_state=0)"
      ]
     },
     "execution_count": 52,
     "metadata": {},
     "output_type": "execute_result"
    }
   ],
   "source": [
    "model.fit(xs_train, ys_train)"
   ]
  },
  {
   "cell_type": "code",
   "execution_count": 53,
   "metadata": {},
   "outputs": [],
   "source": [
    "ys_hat_train = model.predict(xs_train)\n",
    "ys_hat_test = model.predict(xs_test)"
   ]
  },
  {
   "cell_type": "markdown",
   "metadata": {},
   "source": [
    "## Model evaluation"
   ]
  },
  {
   "cell_type": "code",
   "execution_count": 54,
   "metadata": {},
   "outputs": [],
   "source": [
    "def evaluate_model(ys_gold: np.ndarray, ys_hat: np.ndarray) -> Tuple[float, float, float, float, float]:\n",
    "    \n",
    "    accuracy = accuracy_score(ys_gold, ys_hat)\n",
    "    precision = precision_score(ys_gold, ys_hat)\n",
    "    recall = recall_score(ys_gold, ys_hat)\n",
    "    f1 = f1_score(ys_gold, ys_hat)\n",
    "    auc = roc_auc_score(ys_gold, ys_hat)\n",
    "\n",
    "    return accuracy, precision, recall, f1, auc"
   ]
  },
  {
   "cell_type": "code",
   "execution_count": 59,
   "metadata": {},
   "outputs": [
    {
     "data": {
      "text/plain": [
       "array([ 0,  1,  2,  3,  4,  5,  6,  7,  8,  9, 10, 11, 12, 13, 14, 15, 16,\n",
       "       17, 18, 19, 20, 21, 22, 23, 24, 25, 26, 27, 28, 29, 30, 31, 32, 33,\n",
       "       34, 35, 36, 37, 38, 39, 40, 41, 42, 43, 44, 45, 46, 47, 48, 49])"
      ]
     },
     "execution_count": 59,
     "metadata": {},
     "output_type": "execute_result"
    }
   ],
   "source": [
    "np_2d = np.reshape(np.arange(0, 50), (5, 10))\n",
    "np_flatten = np_2d.flatten()\n",
    "np_flatten"
   ]
  },
  {
   "cell_type": "code",
   "execution_count": 55,
   "metadata": {},
   "outputs": [
    {
     "name": "stdout",
     "output_type": "stream",
     "text": [
      "Train\n",
      "Accuracy: 0.9052197802197802\n",
      "Precision: 0.9483282674772037\n",
      "Recall: 0.8571428571428571\n",
      "F1: 0.9004329004329005\n",
      "AUC: 0.9052197802197802\n",
      "\n",
      "Test\n",
      "Accuracy: 0.59375\n",
      "Precision: 0.56\n",
      "Recall: 0.875\n",
      "F1: 0.6829268292682927\n",
      "AUC: 0.59375\n"
     ]
    },
    {
     "data": {
      "image/png": "[encoded data removed]",
      "text/plain": [
       "<Figure size 640x480 with 2 Axes>"
      ]
     },
     "metadata": {},
     "output_type": "display_data"
    }
   ],
   "source": [
    "# Train metrics\n",
    "print(\"Train\")\n",
    "print(f\"Accuracy: {accuracy_score(ys_train, ys_hat_train)}\")\n",
    "print(f\"Precision: {precision_score(ys_train, ys_hat_train)}\")\n",
    "print(f\"Recall: {recall_score(ys_train, ys_hat_train)}\")\n",
    "print(f\"F1: {f1_score(ys_train, ys_hat_train)}\")\n",
    "print(f\"AUC: {roc_auc_score(ys_train, ys_hat_train)}\")\n",
    "\n",
    "# Test metrics\n",
    "print(\"\\nTest\")\n",
    "print(f\"Accuracy: {accuracy_score(ys_test, ys_hat_test)}\")\n",
    "print(f\"Precision: {precision_score(ys_test, ys_hat_test)}\")\n",
    "print(f\"Recall: {recall_score(ys_test, ys_hat_test)}\")\n",
    "print(f\"F1: {f1_score(ys_test, ys_hat_test)}\")\n",
    "print(f\"AUC: {roc_auc_score(ys_test, ys_hat_test)}\")\n",
    "\n",
    "# Plot confusion matrix\n",
    "plot_confusion_matrix(ys_test, ys_hat_test, save_path=\"/Users/wciezobka/Downloads/ldp_confusion_matrix.png\")"
   ]
  },
  {
   "cell_type": "code",
   "execution_count": null,
   "metadata": {},
   "outputs": [],
   "source": []
  }
 ],
 "metadata": {
  "kernelspec": {
   "display_name": "sano",
   "language": "python",
   "name": "python3"
  },
  "language_info": {
   "codemirror_mode": {
    "name": "ipython",
    "version": 3
   },
   "file_extension": ".py",
   "mimetype": "text/x-python",
   "name": "python",
   "nbconvert_exporter": "python",
   "pygments_lexer": "ipython3",
   "version": "3.10.4"
  }
 },
 "nbformat": 4,
 "nbformat_minor": 2
}
