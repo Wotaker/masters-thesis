{
  "cells": [
    {
      "cell_type": "code",
      "execution_count": 13,
      "metadata": {
        "colab": {
          "base_uri": "https://localhost:8080/"
        },
        "id": "JlhVBTDTwMax",
        "outputId": "76a53cdf-19c0-4390-f825-1f1f892ee7d1"
      },
      "outputs": [],
      "source": [
        "# !pip install torch-scatter\n",
        "# !pip install torch_geometric"
      ]
    },
    {
      "cell_type": "code",
      "execution_count": null,
      "metadata": {
        "id": "Lx__WxrBvRiM"
      },
      "outputs": [],
      "source": [
        "import os\n",
        "import torch\n",
        "import numpy as np\n",
        "import matplotlib.pyplot as plt\n",
        "import networkx as nx\n",
        "\n",
        "from torch.nn import Linear\n",
        "import torch.nn.functional as F\n",
        "from torch_geometric.nn import GCNConv, global_mean_pool, ASAPooling as ASAP_Pooling\n",
        "from torch_geometric.utils import train_test_split_edges\n",
        "from torch_geometric.data import Data, Dataset\n",
        "from torch_geometric.loader import DataLoader\n",
        "from torch_scatter import scatter_mean, scatter_max"
      ]
    },
    {
      "cell_type": "code",
      "execution_count": null,
      "metadata": {
        "id": "Um0sxCLAvxUz"
      },
      "outputs": [],
      "source": [
        "def readout(x, batch):\n",
        "    x_mean = scatter_mean(x, batch, dim=0)\n",
        "    x_max, _ = scatter_max(x, batch, dim=0)\n",
        "    return torch.cat((x_mean, x_max), dim=-1)\n",
        "\n",
        "class ASAP_Pool(torch.nn.Module):\n",
        "    def __init__(self, dataset, num_layers, hidden, ratio=0.8, **kwargs):\n",
        "        super(ASAP_Pool, self).__init__()\n",
        "        if type(ratio)!=list:\n",
        "            ratio = [ratio for i in range(num_layers)]\n",
        "        self.conv1 = GCNConv(dataset.num_features, hidden)\n",
        "        self.pool1 = ASAP_Pooling(in_channels=hidden, ratio=ratio[0], **kwargs)\n",
        "        self.convs = torch.nn.ModuleList()\n",
        "        self.pools = torch.nn.ModuleList()\n",
        "        for i in range(num_layers - 1):\n",
        "            self.convs.append(GCNConv(hidden, hidden))\n",
        "            self.pools.append(ASAP_Pooling(in_channels=hidden, ratio=ratio[i], **kwargs))\n",
        "        self.lin1 = Linear(2*hidden, hidden) # 2*hidden due to readout layer\n",
        "        self.lin2 = Linear(hidden, dataset.num_classes)\n",
        "        self.reset_parameters()\n",
        "\n",
        "    def reset_parameters(self):\n",
        "        self.conv1.reset_parameters()\n",
        "        self.pool1.reset_parameters()\n",
        "        for conv, pool in zip(self.convs, self.pools):\n",
        "            conv.reset_parameters()\n",
        "            pool.reset_parameters()\n",
        "        self.lin1.reset_parameters()\n",
        "        self.lin2.reset_parameters()\n",
        "\n",
        "    def forward(self, data):\n",
        "        x, edge_index, batch = data.x, data.edge_index, data.batch\n",
        "        x = F.relu(self.conv1(x, edge_index))\n",
        "        x, edge_index, edge_weight, batch, perm = self.pool1(x=x, edge_index=edge_index, edge_weight=None, batch=batch)\n",
        "        xs = readout(x, batch)\n",
        "        for conv, pool in zip(self.convs, self.pools):\n",
        "            x = F.relu(conv(x=x, edge_index=edge_index, edge_weight=edge_weight))\n",
        "            x, edge_index, edge_weight, batch, perm = pool(x=x, edge_index=edge_index, edge_weight=edge_weight, batch=batch)\n",
        "            xs += readout(x, batch)\n",
        "        x = F.relu(self.lin1(xs))\n",
        "        x = F.dropout(x, p=0.5, training=self.training)\n",
        "        x = self.lin2(x)\n",
        "        out = F.log_softmax(x, dim=-1)\n",
        "        return out\n",
        "\n",
        "    def __repr__(self):\n",
        "        return self.__class__.__name__"
      ]
    },
    {
      "cell_type": "code",
      "execution_count": null,
      "metadata": {
        "id": "apdYkZvivRiO"
      },
      "outputs": [],
      "source": [
        "if torch.backends.mps.is_available():\n",
        "    device = torch.device(\"mps\")\n",
        "else:\n",
        "    device = torch.device(\"cuda\" if torch.cuda.is_available() else \"cpu\")"
      ]
    },
    {
      "cell_type": "code",
      "execution_count": null,
      "metadata": {
        "id": "oqUlOKkivRiO"
      },
      "outputs": [],
      "source": [
        "class DenseSparseDataset(Dataset):\n",
        "\n",
        "    @staticmethod\n",
        "    def nx2geometric(nx_graph: nx.DiGraph, label: int) -> Data:\n",
        "        \"\"\"\n",
        "        Converts a networkx graph to a PyTorch Geometric Data object.\n",
        "        \"\"\"\n",
        "\n",
        "        return Data(\n",
        "            x=torch.ones(len(nx_graph.nodes), 1),\n",
        "            edge_index=torch.tensor(list(nx_graph.edges)).t().contiguous(),\n",
        "            edge_attr=torch.tensor(list(nx.get_edge_attributes(nx_graph, 'weight').values()), dtype=torch.float),\n",
        "            y=torch.tensor([label], dtype=torch.long)\n",
        "        ).to(device)\n",
        "\n",
        "    def __init__(\n",
        "            self,\n",
        "            n_samples: int = 2000,\n",
        "        ):\n",
        "\n",
        "        half_samples = n_samples // 2\n",
        "        graphs_sparse = [nx.newman_watts_strogatz_graph(50, 5, 0.25) for _ in range(half_samples)]\n",
        "        graphs_dense = [nx.newman_watts_strogatz_graph(50, 5, 0.9) for _ in range(half_samples)]\n",
        "        self.dataset = graphs_sparse + graphs_dense\n",
        "        self.labels = [0 for _ in range(half_samples)] + [1 for _ in range(half_samples)]\n",
        "\n",
        "        # Convert to networkx graphs\n",
        "        self.nx_dataset = [self.nx2geometric(g, l) for g, l in zip(self.dataset, self.labels)]\n",
        "\n",
        "    def len(self):\n",
        "        return len(self.nx_dataset)\n",
        "\n",
        "    def get(self, idx):\n",
        "        return self.nx_dataset[idx]\n",
        "\n",
        "    def __getitem__(self, idx) -> Data:\n",
        "        return self.get(idx)\n",
        "\n",
        "    def __len__(self) -> int:\n",
        "        return self.len()"
      ]
    },
    {
      "cell_type": "code",
      "execution_count": null,
      "metadata": {
        "colab": {
          "base_uri": "https://localhost:8080/"
        },
        "id": "jui9GmlkvRiP",
        "outputId": "3e59f9c2-cdab-43b4-a4d3-3c2617387a49"
      },
      "outputs": [
        {
          "data": {
            "text/plain": [
              "Data(x=[50, 1], edge_index=[2, 121], edge_attr=[0], y=[1])"
            ]
          },
          "execution_count": 17,
          "metadata": {},
          "output_type": "execute_result"
        }
      ],
      "source": [
        "dataset = DenseSparseDataset(n_samples=1000)\n",
        "dataset[0]"
      ]
    },
    {
      "cell_type": "code",
      "execution_count": null,
      "metadata": {
        "id": "y06NQWkyvRiP"
      },
      "outputs": [],
      "source": [
        "dataloader = DataLoader(dataset, batch_size=32, shuffle=True)"
      ]
    },
    {
      "cell_type": "code",
      "execution_count": null,
      "metadata": {
        "colab": {
          "base_uri": "https://localhost:8080/"
        },
        "id": "tR5IppfdvRiP",
        "outputId": "b8e46dd7-985e-4262-9277-0210cddcf4fa"
      },
      "outputs": [
        {
          "name": "stdout",
          "output_type": "stream",
          "text": [
            "DataBatch(x=[1600, 1], edge_index=[2, 4800], edge_attr=[0], y=[32], batch=[1600], ptr=[33])\n",
            "tensor([0, 0, 0, 1, 0, 1, 0, 0, 0, 1, 0, 1, 0, 0, 0, 0, 0, 1, 1, 1, 1, 0, 0, 1,\n",
            "        0, 0, 1, 0, 1, 0, 1, 0])\n"
          ]
        }
      ],
      "source": [
        "for batch in dataloader:\n",
        "    print(batch)\n",
        "    print(batch.y)\n",
        "    break"
      ]
    },
    {
      "cell_type": "code",
      "execution_count": null,
      "metadata": {
        "id": "683mHxWuvRiQ"
      },
      "outputs": [],
      "source": [
        "model = ASAP_Pool(dataset, 2, 16).to(device)\n",
        "optimizer = torch.optim.Adam(model.parameters(), lr=0.002, weight_decay=5e-4)"
      ]
    },
    {
      "cell_type": "code",
      "execution_count": null,
      "metadata": {
        "colab": {
          "base_uri": "https://localhost:8080/"
        },
        "id": "kJbpYkqAvRiQ",
        "outputId": "201c1472-81af-446c-fe25-1f6b009358c4"
      },
      "outputs": [
        {
          "name": "stdout",
          "output_type": "stream",
          "text": [
            "Epoch: 001, Loss: 0.0051\n",
            "Epoch: 002, Loss: 0.1366\n",
            "Epoch: 003, Loss: 0.0002\n",
            "Epoch: 004, Loss: 0.0002\n",
            "Epoch: 005, Loss: 0.0048\n",
            "Epoch: 006, Loss: 0.1179\n",
            "Epoch: 007, Loss: 0.0003\n",
            "Epoch: 008, Loss: 0.0004\n",
            "Epoch: 009, Loss: 0.0013\n",
            "Epoch: 010, Loss: 0.0156\n",
            "Epoch: 011, Loss: 0.0028\n",
            "Epoch: 012, Loss: 0.0000\n",
            "Epoch: 013, Loss: 0.0596\n",
            "Epoch: 014, Loss: 0.0597\n",
            "Epoch: 015, Loss: 0.0001\n",
            "Epoch: 016, Loss: 0.0027\n",
            "Epoch: 017, Loss: 0.0012\n",
            "Epoch: 018, Loss: 0.0039\n",
            "Epoch: 019, Loss: 0.0026\n",
            "Epoch: 020, Loss: 0.0549\n"
          ]
        }
      ],
      "source": [
        "model.train()\n",
        "for epoch in range(1, 20 + 1):\n",
        "    loss = 0\n",
        "    for batch in dataloader:\n",
        "        optimizer.zero_grad()\n",
        "        out = model(batch)\n",
        "        loss = F.nll_loss(out, batch.y)\n",
        "        loss.backward()\n",
        "        optimizer.step()\n",
        "    print(f'Epoch: {epoch:03d}, Loss: {loss:.4f}')"
      ]
    },
    {
      "cell_type": "code",
      "execution_count": null,
      "metadata": {
        "id": "fShEjWqFvRiQ"
      },
      "outputs": [],
      "source": [
        "ys = []\n",
        "ys_hat = []\n",
        "for batch in dataloader:\n",
        "    ys.append(batch.y)\n",
        "    ys_hat.append(model(batch))\n",
        "ys = torch.cat(ys, dim=0)\n",
        "ys_hat = torch.cat(ys_hat, dim=0)\n",
        "_, ys_hat = ys_hat.max(dim=1)"
      ]
    },
    {
      "cell_type": "code",
      "execution_count": null,
      "metadata": {
        "colab": {
          "base_uri": "https://localhost:8080/"
        },
        "id": "jWjzJRt91BYa",
        "outputId": "820584e2-7700-4151-ea2e-805ced100992"
      },
      "outputs": [
        {
          "name": "stdout",
          "output_type": "stream",
          "text": [
            "Train Accuracy: 0.9910\n"
          ]
        }
      ],
      "source": [
        "accs = ys_hat.eq(ys).to(torch.float)\n",
        "acc = accs.mean()\n",
        "print(f\"Train Accuracy: {acc:.4f}\")"
      ]
    },
    {
      "cell_type": "code",
      "execution_count": null,
      "metadata": {
        "id": "lsr9KxQm1Drg"
      },
      "outputs": [],
      "source": []
    }
  ],
  "metadata": {
    "colab": {
      "provenance": []
    },
    "kernelspec": {
      "display_name": "sano",
      "language": "python",
      "name": "python3"
    },
    "language_info": {
      "codemirror_mode": {
        "name": "ipython",
        "version": 3
      },
      "file_extension": ".py",
      "mimetype": "text/x-python",
      "name": "python",
      "nbconvert_exporter": "python",
      "pygments_lexer": "ipython3",
      "version": "3.10.4"
    }
  },
  "nbformat": 4,
  "nbformat_minor": 0
}
