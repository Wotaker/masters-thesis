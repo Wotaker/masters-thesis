{
 "cells": [
  {
   "cell_type": "code",
   "execution_count": 1,
   "metadata": {},
   "outputs": [],
   "source": [
    "from typing import List, Tuple, Optional\n",
    "\n",
    "import os\n",
    "import numpy as np\n",
    "import networkx as nx\n",
    "\n",
    "from master_thesis.classification_models import LDPModel"
   ]
  },
  {
   "cell_type": "markdown",
   "metadata": {},
   "source": [
    "# Load dataset"
   ]
  },
  {
   "cell_type": "code",
   "execution_count": 2,
   "metadata": {},
   "outputs": [
    {
     "data": {
      "text/plain": [
       "1000"
      ]
     },
     "execution_count": 2,
     "metadata": {},
     "output_type": "execute_result"
    }
   ],
   "source": [
    "NETWORKS_DIR_PATH = \"/Users/wciezobka/sano/projects/masters-thesis/Datasets/Synthetic/ScaleFreeBias/networks\"\n",
    "filenames = [f for f in os.listdir(NETWORKS_DIR_PATH) if f.endswith(\".npy\")]\n",
    "len(filenames)"
   ]
  },
  {
   "cell_type": "code",
   "execution_count": 3,
   "metadata": {},
   "outputs": [],
   "source": [
    "def load_networks(networks_dir: str, channel: Optional[int] = None) -> Tuple[List[nx.DiGraph], List[int]]:\n",
    "\n",
    "    # Get filenames\n",
    "    filenames = [f for f in os.listdir(networks_dir) if f.endswith(\".npy\")]\n",
    "\n",
    "    # Create paths\n",
    "    paths = [os.path.join(networks_dir, f) for f in filenames]\n",
    "\n",
    "    # Load networks to numpy arrays\n",
    "    networks = [np.load(p) for p in paths]\n",
    "    networks = [net[channel] if channel else net for net in networks]\n",
    "\n",
    "    # Convert to networkx graphs\n",
    "    nx_networks = [nx.from_numpy_array(net, create_using=nx.DiGraph) for net in networks]\n",
    "\n",
    "    # Extract labels\n",
    "    labels = [x.split(\"-\")[1][:3] == \"PAT\" for x in filenames]\n",
    "\n",
    "    return nx_networks, labels"
   ]
  },
  {
   "cell_type": "code",
   "execution_count": 4,
   "metadata": {},
   "outputs": [],
   "source": [
    "X, y = load_networks(NETWORKS_DIR_PATH)"
   ]
  },
  {
   "cell_type": "markdown",
   "metadata": {},
   "source": [
    "# Pipe through the LDP model"
   ]
  },
  {
   "cell_type": "code",
   "execution_count": 5,
   "metadata": {},
   "outputs": [],
   "source": [
    "model = LDPModel()\n",
    "model.fit(X, y)\n",
    "y_hat = model.predict(X)"
   ]
  },
  {
   "cell_type": "code",
   "execution_count": 6,
   "metadata": {},
   "outputs": [
    {
     "name": "stdout",
     "output_type": "stream",
     "text": [
      "Train accuracy: 1.00\n",
      "Train recall: 1.00\n",
      "Train precision: 1.00\n",
      "Train f1: 1.00\n",
      "Train AUC: 1.00\n"
     ]
    },
    {
     "data": {
      "image/png": "[encoded data removed]",
      "text/plain": [
       "<Figure size 640x480 with 2 Axes>"
      ]
     },
     "metadata": {},
     "output_type": "display_data"
    },
    {
     "data": {
      "text/plain": [
       "<Figure size 640x480 with 0 Axes>"
      ]
     },
     "metadata": {},
     "output_type": "display_data"
    }
   ],
   "source": [
    "model.evaluate(y, y_hat)"
   ]
  }
 ],
 "metadata": {
  "kernelspec": {
   "display_name": "sano",
   "language": "python",
   "name": "python3"
  },
  "language_info": {
   "codemirror_mode": {
    "name": "ipython",
    "version": 3
   },
   "file_extension": ".py",
   "mimetype": "text/x-python",
   "name": "python",
   "nbconvert_exporter": "python",
   "pygments_lexer": "ipython3",
   "version": "3.10.4"
  }
 },
 "nbformat": 4,
 "nbformat_minor": 2
}
